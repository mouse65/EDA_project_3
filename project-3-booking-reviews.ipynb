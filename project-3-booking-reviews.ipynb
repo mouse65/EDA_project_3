{
 "cells": [
  {
   "cell_type": "code",
   "execution_count": 1,
   "id": "acdab725",
   "metadata": {
    "_cell_guid": "b1076dfc-b9ad-4769-8c92-a6c4dae69d19",
    "_uuid": "8f2839f25d086af736a60e9eeb907d3b93b6e0e5",
    "execution": {
     "iopub.execute_input": "2024-12-11T10:49:45.559131Z",
     "iopub.status.busy": "2024-12-11T10:49:45.558636Z",
     "iopub.status.idle": "2024-12-11T10:49:47.367596Z",
     "shell.execute_reply": "2024-12-11T10:49:47.366953Z",
     "shell.execute_reply.started": "2024-12-09T16:30:48.340847Z"
    },
    "papermill": {
     "duration": 1.873538,
     "end_time": "2024-12-11T10:49:47.367754",
     "exception": false,
     "start_time": "2024-12-11T10:49:45.494216",
     "status": "completed"
    },
    "tags": []
   },
   "outputs": [
    {
     "name": "stdout",
     "output_type": "stream",
     "text": [
      "/kaggle/input/sf-booking/hotels_test.csv\n",
      "/kaggle/input/sf-booking/hotels_train.csv\n",
      "/kaggle/input/sf-booking/submission.csv\n"
     ]
    }
   ],
   "source": [
    "# Загружаем инструменты для обработки данных\n",
    "#\n",
    "import numpy as np # linear algebra\n",
    "import pandas as pd # data processing, CSV file I/O (e.g. pd.read_csv)\n",
    "import collections\n",
    "from collections import Counter\n",
    "import random\n",
    "import re\n",
    "import sys\n",
    "import geopy.distance\n",
    "from textblob import TextBlob, Blobber\n",
    "from textblob.sentiments import NaiveBayesAnalyzer\n",
    "\n",
    "# импортируем библиотеки для визуализации\n",
    "import matplotlib.pyplot as plt\n",
    "import seaborn as sns \n",
    "%matplotlib inline\n",
    "\n",
    "# Загружаем специальный удобный инструмент для разделения датасета:\n",
    "from sklearn.model_selection import train_test_split\n",
    "# Загружаем инструменты для кодирования\n",
    "from sklearn.preprocessing import OrdinalEncoder, LabelEncoder, OneHotEncoder\n",
    "from sklearn.feature_selection import f_classif\n",
    "import category_encoders as ce\n",
    "#\n",
    "import os\n",
    "for dirname, _, filenames in os.walk('/kaggle/input'):\n",
    "    for filename in filenames:\n",
    "        print(os.path.join(dirname, filename))\n",
    "#\n",
    "# Импортируем необходимые библиотеки:\n",
    "from sklearn.ensemble import RandomForestRegressor # инструмент для создания и обучения модели\n",
    "from sklearn import metrics # инструменты для оценки точности модели"
   ]
  },
  {
   "cell_type": "code",
   "execution_count": 2,
   "id": "aac95e82",
   "metadata": {
    "execution": {
     "iopub.execute_input": "2024-12-11T10:49:47.442981Z",
     "iopub.status.busy": "2024-12-11T10:49:47.442209Z",
     "iopub.status.idle": "2024-12-11T10:49:47.444044Z",
     "shell.execute_reply": "2024-12-11T10:49:47.444565Z",
     "shell.execute_reply.started": "2024-12-09T16:30:50.319038Z"
    },
    "papermill": {
     "duration": 0.041896,
     "end_time": "2024-12-11T10:49:47.444695",
     "exception": false,
     "start_time": "2024-12-11T10:49:47.402799",
     "status": "completed"
    },
    "tags": []
   },
   "outputs": [],
   "source": [
    "# всегда фиксируйте RANDOM_SEED, чтобы ваши эксперименты были воспроизводимы!\n",
    "RANDOM_SEED = 42"
   ]
  },
  {
   "cell_type": "code",
   "execution_count": 3,
   "id": "9a8985bf",
   "metadata": {
    "execution": {
     "iopub.execute_input": "2024-12-11T10:49:47.518611Z",
     "iopub.status.busy": "2024-12-11T10:49:47.517864Z",
     "iopub.status.idle": "2024-12-11T10:49:51.645322Z",
     "shell.execute_reply": "2024-12-11T10:49:51.644875Z",
     "shell.execute_reply.started": "2024-12-09T16:30:50.324166Z"
    },
    "papermill": {
     "duration": 4.165447,
     "end_time": "2024-12-11T10:49:51.645450",
     "exception": false,
     "start_time": "2024-12-11T10:49:47.480003",
     "status": "completed"
    },
    "tags": []
   },
   "outputs": [],
   "source": [
    "# зафиксируем версию пакетов, чтобы эксперименты были воспроизводимы:\n",
    "!pip freeze > requirements.txt"
   ]
  },
  {
   "cell_type": "code",
   "execution_count": 4,
   "id": "8a4c0b7c",
   "metadata": {
    "execution": {
     "iopub.execute_input": "2024-12-11T10:49:51.724489Z",
     "iopub.status.busy": "2024-12-11T10:49:51.723876Z",
     "iopub.status.idle": "2024-12-11T10:49:57.367402Z",
     "shell.execute_reply": "2024-12-11T10:49:57.367860Z",
     "shell.execute_reply.started": "2024-12-09T16:30:54.699612Z"
    },
    "papermill": {
     "duration": 5.686662,
     "end_time": "2024-12-11T10:49:57.368037",
     "exception": false,
     "start_time": "2024-12-11T10:49:51.681375",
     "status": "completed"
    },
    "tags": []
   },
   "outputs": [],
   "source": [
    "# Подгрузим наши данные из соревнования\n",
    "\n",
    "DATA_DIR = '/kaggle/input/sf-booking/'\n",
    "df_train = pd.read_csv(DATA_DIR+'/hotels_train.csv') # датасет для обучения\n",
    "df_test = pd.read_csv(DATA_DIR+'hotels_test.csv') # датасет для предсказания\n",
    "sample_submission = pd.read_csv(DATA_DIR+'/submission.csv') # submission"
   ]
  },
  {
   "cell_type": "code",
   "execution_count": 5,
   "id": "9322c70c",
   "metadata": {
    "execution": {
     "iopub.execute_input": "2024-12-11T10:49:57.448950Z",
     "iopub.status.busy": "2024-12-11T10:49:57.448315Z",
     "iopub.status.idle": "2024-12-11T10:49:57.988000Z",
     "shell.execute_reply": "2024-12-11T10:49:57.987500Z",
     "shell.execute_reply.started": "2024-12-09T16:30:59.370479Z"
    },
    "papermill": {
     "duration": 0.581186,
     "end_time": "2024-12-11T10:49:57.988117",
     "exception": false,
     "start_time": "2024-12-11T10:49:57.406931",
     "status": "completed"
    },
    "tags": []
   },
   "outputs": [],
   "source": [
    "# для корректной обработки признаков объединяем трейн и тест в один датасет\n",
    "df_train['sample'] = 1 # помечаем где у нас трейн\n",
    "df_test['sample'] = 0 # помечаем где у нас тест\n",
    "df_test['reviewer_score'] = 0 # в тесте у нас нет значения reviewer_score, мы его должны предсказать, по этому пока просто заполняем нулями\n",
    "#\n",
    "data = df_test.append(df_train, sort=False).reset_index(drop=True) # объединяем\n",
    "##display(data)\n",
    "data_base = data.copy()"
   ]
  },
  {
   "cell_type": "code",
   "execution_count": 6,
   "id": "f2f2db73",
   "metadata": {
    "execution": {
     "iopub.execute_input": "2024-12-11T10:49:58.067016Z",
     "iopub.status.busy": "2024-12-11T10:49:58.066510Z",
     "iopub.status.idle": "2024-12-11T10:49:58.231154Z",
     "shell.execute_reply": "2024-12-11T10:49:58.231589Z",
     "shell.execute_reply.started": "2024-12-09T16:30:59.909238Z"
    },
    "papermill": {
     "duration": 0.209236,
     "end_time": "2024-12-11T10:49:58.231743",
     "exception": false,
     "start_time": "2024-12-11T10:49:58.022507",
     "status": "completed"
    },
    "tags": []
   },
   "outputs": [
    {
     "data": {
      "text/html": [
       "<div>\n",
       "<style scoped>\n",
       "    .dataframe tbody tr th:only-of-type {\n",
       "        vertical-align: middle;\n",
       "    }\n",
       "\n",
       "    .dataframe tbody tr th {\n",
       "        vertical-align: top;\n",
       "    }\n",
       "\n",
       "    .dataframe thead th {\n",
       "        text-align: right;\n",
       "    }\n",
       "</style>\n",
       "<table border=\"1\" class=\"dataframe\">\n",
       "  <thead>\n",
       "    <tr style=\"text-align: right;\">\n",
       "      <th></th>\n",
       "      <th>hotel_address</th>\n",
       "      <th>additional_number_of_scoring</th>\n",
       "      <th>review_date</th>\n",
       "      <th>average_score</th>\n",
       "      <th>hotel_name</th>\n",
       "      <th>reviewer_nationality</th>\n",
       "      <th>negative_review</th>\n",
       "      <th>review_total_negative_word_counts</th>\n",
       "      <th>total_number_of_reviews</th>\n",
       "      <th>positive_review</th>\n",
       "      <th>review_total_positive_word_counts</th>\n",
       "      <th>total_number_of_reviews_reviewer_has_given</th>\n",
       "      <th>tags</th>\n",
       "      <th>days_since_review</th>\n",
       "      <th>lat</th>\n",
       "      <th>lng</th>\n",
       "      <th>sample</th>\n",
       "      <th>reviewer_score</th>\n",
       "    </tr>\n",
       "  </thead>\n",
       "  <tbody>\n",
       "    <tr>\n",
       "      <th>0</th>\n",
       "      <td>Via Senigallia 6 20161 Milan Italy</td>\n",
       "      <td>904</td>\n",
       "      <td>7/21/2017</td>\n",
       "      <td>8.1</td>\n",
       "      <td>Hotel Da Vinci</td>\n",
       "      <td>United Kingdom</td>\n",
       "      <td>Would have appreciated a shop in the hotel th...</td>\n",
       "      <td>52</td>\n",
       "      <td>16670</td>\n",
       "      <td>Hotel was great clean friendly staff free bre...</td>\n",
       "      <td>62</td>\n",
       "      <td>1</td>\n",
       "      <td>[' Leisure trip ', ' Couple ', ' Double Room '...</td>\n",
       "      <td>13 days</td>\n",
       "      <td>45.533137</td>\n",
       "      <td>9.171102</td>\n",
       "      <td>0</td>\n",
       "      <td>0.0</td>\n",
       "    </tr>\n",
       "    <tr>\n",
       "      <th>1</th>\n",
       "      <td>Arlandaweg 10 Westpoort 1043 EW Amsterdam Neth...</td>\n",
       "      <td>612</td>\n",
       "      <td>12/12/2016</td>\n",
       "      <td>8.6</td>\n",
       "      <td>Urban Lodge Hotel</td>\n",
       "      <td>Belgium</td>\n",
       "      <td>No tissue paper box was present at the room</td>\n",
       "      <td>10</td>\n",
       "      <td>5018</td>\n",
       "      <td>No Positive</td>\n",
       "      <td>0</td>\n",
       "      <td>7</td>\n",
       "      <td>[' Leisure trip ', ' Group ', ' Triple Room ',...</td>\n",
       "      <td>234 day</td>\n",
       "      <td>52.385649</td>\n",
       "      <td>4.834443</td>\n",
       "      <td>0</td>\n",
       "      <td>0.0</td>\n",
       "    </tr>\n",
       "    <tr>\n",
       "      <th>2</th>\n",
       "      <td>Mallorca 251 Eixample 08008 Barcelona Spain</td>\n",
       "      <td>46</td>\n",
       "      <td>11/26/2015</td>\n",
       "      <td>8.3</td>\n",
       "      <td>Alexandra Barcelona A DoubleTree by Hilton</td>\n",
       "      <td>Sweden</td>\n",
       "      <td>Pillows</td>\n",
       "      <td>3</td>\n",
       "      <td>351</td>\n",
       "      <td>Nice welcoming and service</td>\n",
       "      <td>5</td>\n",
       "      <td>15</td>\n",
       "      <td>[' Business trip ', ' Solo traveler ', ' Twin ...</td>\n",
       "      <td>616 day</td>\n",
       "      <td>41.393192</td>\n",
       "      <td>2.161520</td>\n",
       "      <td>0</td>\n",
       "      <td>0.0</td>\n",
       "    </tr>\n",
       "    <tr>\n",
       "      <th>3</th>\n",
       "      <td>Piazza Della Repubblica 17 Central Station 201...</td>\n",
       "      <td>241</td>\n",
       "      <td>10/17/2015</td>\n",
       "      <td>9.1</td>\n",
       "      <td>Hotel Principe Di Savoia</td>\n",
       "      <td>United States of America</td>\n",
       "      <td>No Negative</td>\n",
       "      <td>0</td>\n",
       "      <td>1543</td>\n",
       "      <td>Everything including the nice upgrade The Hot...</td>\n",
       "      <td>27</td>\n",
       "      <td>9</td>\n",
       "      <td>[' Leisure trip ', ' Couple ', ' Ambassador Ju...</td>\n",
       "      <td>656 day</td>\n",
       "      <td>45.479888</td>\n",
       "      <td>9.196298</td>\n",
       "      <td>0</td>\n",
       "      <td>0.0</td>\n",
       "    </tr>\n",
       "    <tr>\n",
       "      <th>4</th>\n",
       "      <td>Singel 303 309 Amsterdam City Center 1012 WJ A...</td>\n",
       "      <td>834</td>\n",
       "      <td>5/16/2016</td>\n",
       "      <td>9.1</td>\n",
       "      <td>Hotel Esther a</td>\n",
       "      <td>United Kingdom</td>\n",
       "      <td>No Negative</td>\n",
       "      <td>0</td>\n",
       "      <td>4687</td>\n",
       "      <td>Lovely hotel v welcoming staff</td>\n",
       "      <td>7</td>\n",
       "      <td>2</td>\n",
       "      <td>[' Business trip ', ' Solo traveler ', ' Class...</td>\n",
       "      <td>444 day</td>\n",
       "      <td>52.370545</td>\n",
       "      <td>4.888644</td>\n",
       "      <td>0</td>\n",
       "      <td>0.0</td>\n",
       "    </tr>\n",
       "    <tr>\n",
       "      <th>...</th>\n",
       "      <td>...</td>\n",
       "      <td>...</td>\n",
       "      <td>...</td>\n",
       "      <td>...</td>\n",
       "      <td>...</td>\n",
       "      <td>...</td>\n",
       "      <td>...</td>\n",
       "      <td>...</td>\n",
       "      <td>...</td>\n",
       "      <td>...</td>\n",
       "      <td>...</td>\n",
       "      <td>...</td>\n",
       "      <td>...</td>\n",
       "      <td>...</td>\n",
       "      <td>...</td>\n",
       "      <td>...</td>\n",
       "      <td>...</td>\n",
       "      <td>...</td>\n",
       "    </tr>\n",
       "    <tr>\n",
       "      <th>515733</th>\n",
       "      <td>9 Knaresborough Place Kensington and Chelsea L...</td>\n",
       "      <td>107</td>\n",
       "      <td>4/19/2017</td>\n",
       "      <td>9.0</td>\n",
       "      <td>Hotel Moonlight</td>\n",
       "      <td>France</td>\n",
       "      <td>No Negative</td>\n",
       "      <td>0</td>\n",
       "      <td>617</td>\n",
       "      <td>Tr s proche du metro Earl s court</td>\n",
       "      <td>10</td>\n",
       "      <td>10</td>\n",
       "      <td>[' Leisure trip ', ' Group ', ' Club Double or...</td>\n",
       "      <td>106 day</td>\n",
       "      <td>51.494028</td>\n",
       "      <td>-0.191050</td>\n",
       "      <td>1</td>\n",
       "      <td>8.8</td>\n",
       "    </tr>\n",
       "    <tr>\n",
       "      <th>515734</th>\n",
       "      <td>Landstra er Hauptstra e 155 03 Landstra e 1030...</td>\n",
       "      <td>272</td>\n",
       "      <td>2/13/2017</td>\n",
       "      <td>8.4</td>\n",
       "      <td>BEST WESTERN PLUS Amedia Wien</td>\n",
       "      <td>Turkey</td>\n",
       "      <td>No Negative</td>\n",
       "      <td>0</td>\n",
       "      <td>3224</td>\n",
       "      <td>The bed was so comfy I stayed with my boyfrie...</td>\n",
       "      <td>93</td>\n",
       "      <td>1</td>\n",
       "      <td>[' Leisure trip ', ' Couple ', ' Standard Doub...</td>\n",
       "      <td>171 day</td>\n",
       "      <td>48.192379</td>\n",
       "      <td>16.399451</td>\n",
       "      <td>1</td>\n",
       "      <td>9.2</td>\n",
       "    </tr>\n",
       "    <tr>\n",
       "      <th>515735</th>\n",
       "      <td>29 31 Gower Street Camden London WC1E 6HG Unit...</td>\n",
       "      <td>457</td>\n",
       "      <td>2/7/2016</td>\n",
       "      <td>6.8</td>\n",
       "      <td>Bloomsbury Palace Hotel</td>\n",
       "      <td>Netherlands</td>\n",
       "      <td>room is really small but guess is normal in L...</td>\n",
       "      <td>12</td>\n",
       "      <td>2751</td>\n",
       "      <td>great location simple check in out nice shower</td>\n",
       "      <td>9</td>\n",
       "      <td>21</td>\n",
       "      <td>[' Business trip ', ' Solo traveler ', ' Singl...</td>\n",
       "      <td>543 day</td>\n",
       "      <td>51.520795</td>\n",
       "      <td>-0.131084</td>\n",
       "      <td>1</td>\n",
       "      <td>8.3</td>\n",
       "    </tr>\n",
       "    <tr>\n",
       "      <th>515736</th>\n",
       "      <td>31 Great Cumberland Place Westminster Borough ...</td>\n",
       "      <td>365</td>\n",
       "      <td>5/21/2017</td>\n",
       "      <td>8.1</td>\n",
       "      <td>The Marble Arch London</td>\n",
       "      <td>United Arab Emirates</td>\n",
       "      <td>No Negative</td>\n",
       "      <td>0</td>\n",
       "      <td>1567</td>\n",
       "      <td>Location and very comfy bed</td>\n",
       "      <td>6</td>\n",
       "      <td>28</td>\n",
       "      <td>[' Leisure trip ', ' Solo traveler ', ' Deluxe...</td>\n",
       "      <td>74 days</td>\n",
       "      <td>51.515125</td>\n",
       "      <td>-0.160066</td>\n",
       "      <td>1</td>\n",
       "      <td>9.2</td>\n",
       "    </tr>\n",
       "    <tr>\n",
       "      <th>515737</th>\n",
       "      <td>25 Courtfield Gardens Kensington and Chelsea L...</td>\n",
       "      <td>222</td>\n",
       "      <td>8/5/2016</td>\n",
       "      <td>9.0</td>\n",
       "      <td>The Nadler Kensington</td>\n",
       "      <td>Australia</td>\n",
       "      <td>Patio outside could have been cleaned of alga...</td>\n",
       "      <td>20</td>\n",
       "      <td>1209</td>\n",
       "      <td>Beds comfortable Pillows also good Homely fee...</td>\n",
       "      <td>20</td>\n",
       "      <td>2</td>\n",
       "      <td>[' Leisure trip ', ' Couple ', ' Bunk Bed Room...</td>\n",
       "      <td>363 day</td>\n",
       "      <td>51.493109</td>\n",
       "      <td>-0.190208</td>\n",
       "      <td>1</td>\n",
       "      <td>8.8</td>\n",
       "    </tr>\n",
       "  </tbody>\n",
       "</table>\n",
       "<p>515738 rows × 18 columns</p>\n",
       "</div>"
      ],
      "text/plain": [
       "                                            hotel_address  \\\n",
       "0                      Via Senigallia 6 20161 Milan Italy   \n",
       "1       Arlandaweg 10 Westpoort 1043 EW Amsterdam Neth...   \n",
       "2             Mallorca 251 Eixample 08008 Barcelona Spain   \n",
       "3       Piazza Della Repubblica 17 Central Station 201...   \n",
       "4       Singel 303 309 Amsterdam City Center 1012 WJ A...   \n",
       "...                                                   ...   \n",
       "515733  9 Knaresborough Place Kensington and Chelsea L...   \n",
       "515734  Landstra er Hauptstra e 155 03 Landstra e 1030...   \n",
       "515735  29 31 Gower Street Camden London WC1E 6HG Unit...   \n",
       "515736  31 Great Cumberland Place Westminster Borough ...   \n",
       "515737  25 Courtfield Gardens Kensington and Chelsea L...   \n",
       "\n",
       "        additional_number_of_scoring review_date  average_score  \\\n",
       "0                                904   7/21/2017            8.1   \n",
       "1                                612  12/12/2016            8.6   \n",
       "2                                 46  11/26/2015            8.3   \n",
       "3                                241  10/17/2015            9.1   \n",
       "4                                834   5/16/2016            9.1   \n",
       "...                              ...         ...            ...   \n",
       "515733                           107   4/19/2017            9.0   \n",
       "515734                           272   2/13/2017            8.4   \n",
       "515735                           457    2/7/2016            6.8   \n",
       "515736                           365   5/21/2017            8.1   \n",
       "515737                           222    8/5/2016            9.0   \n",
       "\n",
       "                                        hotel_name  \\\n",
       "0                                   Hotel Da Vinci   \n",
       "1                                Urban Lodge Hotel   \n",
       "2       Alexandra Barcelona A DoubleTree by Hilton   \n",
       "3                         Hotel Principe Di Savoia   \n",
       "4                                   Hotel Esther a   \n",
       "...                                            ...   \n",
       "515733                             Hotel Moonlight   \n",
       "515734               BEST WESTERN PLUS Amedia Wien   \n",
       "515735                     Bloomsbury Palace Hotel   \n",
       "515736                      The Marble Arch London   \n",
       "515737                       The Nadler Kensington   \n",
       "\n",
       "              reviewer_nationality  \\\n",
       "0                  United Kingdom    \n",
       "1                         Belgium    \n",
       "2                          Sweden    \n",
       "3        United States of America    \n",
       "4                  United Kingdom    \n",
       "...                            ...   \n",
       "515733                     France    \n",
       "515734                     Turkey    \n",
       "515735                Netherlands    \n",
       "515736       United Arab Emirates    \n",
       "515737                  Australia    \n",
       "\n",
       "                                          negative_review  \\\n",
       "0        Would have appreciated a shop in the hotel th...   \n",
       "1             No tissue paper box was present at the room   \n",
       "2                                                Pillows    \n",
       "3                                             No Negative   \n",
       "4                                             No Negative   \n",
       "...                                                   ...   \n",
       "515733                                        No Negative   \n",
       "515734                                        No Negative   \n",
       "515735   room is really small but guess is normal in L...   \n",
       "515736                                        No Negative   \n",
       "515737   Patio outside could have been cleaned of alga...   \n",
       "\n",
       "        review_total_negative_word_counts  total_number_of_reviews  \\\n",
       "0                                      52                    16670   \n",
       "1                                      10                     5018   \n",
       "2                                       3                      351   \n",
       "3                                       0                     1543   \n",
       "4                                       0                     4687   \n",
       "...                                   ...                      ...   \n",
       "515733                                  0                      617   \n",
       "515734                                  0                     3224   \n",
       "515735                                 12                     2751   \n",
       "515736                                  0                     1567   \n",
       "515737                                 20                     1209   \n",
       "\n",
       "                                          positive_review  \\\n",
       "0        Hotel was great clean friendly staff free bre...   \n",
       "1                                             No Positive   \n",
       "2                              Nice welcoming and service   \n",
       "3        Everything including the nice upgrade The Hot...   \n",
       "4                         Lovely hotel v welcoming staff    \n",
       "...                                                   ...   \n",
       "515733                 Tr s proche du metro Earl s court    \n",
       "515734   The bed was so comfy I stayed with my boyfrie...   \n",
       "515735     great location simple check in out nice shower   \n",
       "515736                        Location and very comfy bed   \n",
       "515737   Beds comfortable Pillows also good Homely fee...   \n",
       "\n",
       "        review_total_positive_word_counts  \\\n",
       "0                                      62   \n",
       "1                                       0   \n",
       "2                                       5   \n",
       "3                                      27   \n",
       "4                                       7   \n",
       "...                                   ...   \n",
       "515733                                 10   \n",
       "515734                                 93   \n",
       "515735                                  9   \n",
       "515736                                  6   \n",
       "515737                                 20   \n",
       "\n",
       "        total_number_of_reviews_reviewer_has_given  \\\n",
       "0                                                1   \n",
       "1                                                7   \n",
       "2                                               15   \n",
       "3                                                9   \n",
       "4                                                2   \n",
       "...                                            ...   \n",
       "515733                                          10   \n",
       "515734                                           1   \n",
       "515735                                          21   \n",
       "515736                                          28   \n",
       "515737                                           2   \n",
       "\n",
       "                                                     tags days_since_review  \\\n",
       "0       [' Leisure trip ', ' Couple ', ' Double Room '...           13 days   \n",
       "1       [' Leisure trip ', ' Group ', ' Triple Room ',...           234 day   \n",
       "2       [' Business trip ', ' Solo traveler ', ' Twin ...           616 day   \n",
       "3       [' Leisure trip ', ' Couple ', ' Ambassador Ju...           656 day   \n",
       "4       [' Business trip ', ' Solo traveler ', ' Class...           444 day   \n",
       "...                                                   ...               ...   \n",
       "515733  [' Leisure trip ', ' Group ', ' Club Double or...           106 day   \n",
       "515734  [' Leisure trip ', ' Couple ', ' Standard Doub...           171 day   \n",
       "515735  [' Business trip ', ' Solo traveler ', ' Singl...           543 day   \n",
       "515736  [' Leisure trip ', ' Solo traveler ', ' Deluxe...           74 days   \n",
       "515737  [' Leisure trip ', ' Couple ', ' Bunk Bed Room...           363 day   \n",
       "\n",
       "              lat        lng  sample  reviewer_score  \n",
       "0       45.533137   9.171102       0             0.0  \n",
       "1       52.385649   4.834443       0             0.0  \n",
       "2       41.393192   2.161520       0             0.0  \n",
       "3       45.479888   9.196298       0             0.0  \n",
       "4       52.370545   4.888644       0             0.0  \n",
       "...           ...        ...     ...             ...  \n",
       "515733  51.494028  -0.191050       1             8.8  \n",
       "515734  48.192379  16.399451       1             9.2  \n",
       "515735  51.520795  -0.131084       1             8.3  \n",
       "515736  51.515125  -0.160066       1             9.2  \n",
       "515737  51.493109  -0.190208       1             8.8  \n",
       "\n",
       "[515738 rows x 18 columns]"
      ]
     },
     "metadata": {},
     "output_type": "display_data"
    }
   ],
   "source": [
    "display(data)"
   ]
  },
  {
   "cell_type": "markdown",
   "id": "8cde66d2",
   "metadata": {
    "papermill": {
     "duration": 0.035449,
     "end_time": "2024-12-11T10:49:58.303105",
     "exception": false,
     "start_time": "2024-12-11T10:49:58.267656",
     "status": "completed"
    },
    "tags": []
   },
   "source": [
    "#  Добавление новых числовых признаков"
   ]
  },
  {
   "cell_type": "code",
   "execution_count": 7,
   "id": "b7310a0c",
   "metadata": {
    "execution": {
     "iopub.execute_input": "2024-12-11T10:49:58.378519Z",
     "iopub.status.busy": "2024-12-11T10:49:58.377958Z",
     "iopub.status.idle": "2024-12-11T10:49:58.769120Z",
     "shell.execute_reply": "2024-12-11T10:49:58.769567Z",
     "shell.execute_reply.started": "2024-12-09T16:31:00.087079Z"
    },
    "papermill": {
     "duration": 0.431899,
     "end_time": "2024-12-11T10:49:58.769723",
     "exception": false,
     "start_time": "2024-12-11T10:49:58.337824",
     "status": "completed"
    },
    "tags": []
   },
   "outputs": [
    {
     "data": {
      "text/plain": [
       "0     13\n",
       "1    234\n",
       "2    616\n",
       "3    656\n",
       "4    444\n",
       "Name: days_since_review, dtype: int64"
      ]
     },
     "execution_count": 7,
     "metadata": {},
     "output_type": "execute_result"
    }
   ],
   "source": [
    "#преобразуем признак 'days_since_review' в числовой\n",
    "data['days_since_review'] = data['days_since_review'].apply(lambda x: int(x.split()[0]))\n",
    "data['days_since_review'].head()"
   ]
  },
  {
   "cell_type": "code",
   "execution_count": 8,
   "id": "e8fadfff",
   "metadata": {
    "execution": {
     "iopub.execute_input": "2024-12-11T10:49:58.848692Z",
     "iopub.status.busy": "2024-12-11T10:49:58.848139Z",
     "iopub.status.idle": "2024-12-11T10:49:58.886104Z",
     "shell.execute_reply": "2024-12-11T10:49:58.885699Z",
     "shell.execute_reply.started": "2024-12-09T16:31:00.477361Z"
    },
    "papermill": {
     "duration": 0.080639,
     "end_time": "2024-12-11T10:49:58.886214",
     "exception": false,
     "start_time": "2024-12-11T10:49:58.805575",
     "status": "completed"
    },
    "tags": []
   },
   "outputs": [
    {
     "name": "stdout",
     "output_type": "stream",
     "text": [
      "17\n",
      "['W hringer Stra e 33 35 09 Alsergrund 1090 Vienna Austria'\n",
      " 'Gr nentorgasse 30 09 Alsergrund 1090 Vienna Austria'\n",
      " '23 Rue Damr mont 18th arr 75018 Paris France'\n",
      " 'Josefst dter Stra e 10 12 08 Josefstadt 1080 Vienna Austria'\n",
      " 'Taborstra e 8 A 02 Leopoldstadt 1020 Vienna Austria'\n",
      " 'Josefst dter Stra e 22 08 Josefstadt 1080 Vienna Austria'\n",
      " 'Bail n 4 6 Eixample 08010 Barcelona Spain'\n",
      " 'Landstra er G rtel 5 03 Landstra e 1030 Vienna Austria'\n",
      " '4 rue de la P pini re 8th arr 75008 Paris France'\n",
      " '20 Rue De La Ga t 14th arr 75014 Paris France'\n",
      " 'W hringer Stra e 12 09 Alsergrund 1090 Vienna Austria'\n",
      " 'Savoyenstra e 2 16 Ottakring 1160 Vienna Austria'\n",
      " 'Pau Clar s 122 Eixample 08009 Barcelona Spain'\n",
      " 'Sieveringer Stra e 4 19 D bling 1190 Vienna Austria'\n",
      " 'Paragonstra e 1 11 Simmering 1110 Vienna Austria'\n",
      " 'Hasenauerstra e 12 19 D bling 1190 Vienna Austria'\n",
      " 'Sep lveda 180 Eixample 08011 Barcelona Spain']\n"
     ]
    }
   ],
   "source": [
    "#\n",
    "#data['lat'] = data['lat'].fillna(0, inplace=True)\n",
    "#data['lng'] = data['lng'].fillna(0, inplace=True)\n",
    "#\n",
    "# устанавливаем недостающие координаты местонахождения гостиниц через geopy\n",
    "lat_nan_df = data[data['lat'].isnull()]\n",
    "#\n",
    "lat_nan_list = list(lat_nan_df.index) # список индексов строк, где lat = NaN\n",
    "#\n",
    "lng_nan_df = data[data['lng'].isnull()]\n",
    "#\n",
    "lng_nan_list = list(lng_nan_df.index) # список индексов строк, где lat = NaN\n",
    "#\n",
    "# списки lat_nan_list и lng_nan_list одни и теже\n",
    "#\n",
    "result=list(set(lat_nan_list) - set(lng_nan_list))  # result == 0\n",
    "#\n",
    "#    занести в data под номерами из списка lat_nan_list или из списка lng_nan_list\n",
    "#    координаты отелей, соотв. координатам городов по месту нахождения\n",
    "#\n",
    "print(lat_nan_df['hotel_address'].nunique())                 # колич. уникальных элементов в столбце (всего 17)\n",
    "hotel_address_lat_nan = lat_nan_df['hotel_address'].unique() # списока уникальных элементов в столбце\n",
    "print(hotel_address_lat_nan)\n",
    "#\n",
    "cities_1 = []                       # список всех мест положений отелей с NaN координатами\n",
    "for value in hotel_address_lat_nan:\n",
    "    list_temp = value.split()\n",
    "    cities_1.append(list_temp[len(list_temp)-2]) \n",
    "#\n",
    "#print(cities_1)\n",
    "#\n",
    "def unique_elem_list(numbers): # находим только уникальные города расположения отелей\n",
    "    unique = []\n",
    "#\n",
    "    for number in numbers:\n",
    "        if number in unique:\n",
    "            continue\n",
    "        else:\n",
    "            unique.append(number)\n",
    "    return unique\n",
    "uniq_cities_list = unique_elem_list(cities_1) # список уникальных городов ( всего 3 города)"
   ]
  },
  {
   "cell_type": "code",
   "execution_count": 9,
   "id": "ba547c23",
   "metadata": {
    "execution": {
     "iopub.execute_input": "2024-12-11T10:49:58.962083Z",
     "iopub.status.busy": "2024-12-11T10:49:58.961608Z",
     "iopub.status.idle": "2024-12-11T10:49:58.964069Z",
     "shell.execute_reply": "2024-12-11T10:49:58.963688Z",
     "shell.execute_reply.started": "2024-12-09T16:31:00.520982Z"
    },
    "papermill": {
     "duration": 0.041492,
     "end_time": "2024-12-11T10:49:58.964171",
     "exception": false,
     "start_time": "2024-12-11T10:49:58.922679",
     "status": "completed"
    },
    "tags": []
   },
   "outputs": [],
   "source": [
    "##data.info()"
   ]
  },
  {
   "cell_type": "markdown",
   "id": "f523d30f",
   "metadata": {
    "papermill": {
     "duration": 0.035885,
     "end_time": "2024-12-11T10:49:59.035880",
     "exception": false,
     "start_time": "2024-12-11T10:49:58.999995",
     "status": "completed"
    },
    "tags": []
   },
   "source": [
    "1. Недостающие координаты lat и lng для трех городов: Vienna, Paris, Barcelona. В них находятся\n",
    "   17 отелей, в которых нет координат"
   ]
  },
  {
   "cell_type": "code",
   "execution_count": 10,
   "id": "793cbf73",
   "metadata": {
    "execution": {
     "iopub.execute_input": "2024-12-11T10:49:59.119785Z",
     "iopub.status.busy": "2024-12-11T10:49:59.119239Z",
     "iopub.status.idle": "2024-12-11T10:50:03.033885Z",
     "shell.execute_reply": "2024-12-11T10:50:03.033447Z",
     "shell.execute_reply.started": "2024-12-09T16:31:00.526495Z"
    },
    "papermill": {
     "duration": 3.962492,
     "end_time": "2024-12-11T10:50:03.034010",
     "exception": false,
     "start_time": "2024-12-11T10:49:59.071518",
     "status": "completed"
    },
    "tags": []
   },
   "outputs": [
    {
     "name": "stderr",
     "output_type": "stream",
     "text": [
      "/opt/conda/lib/python3.7/site-packages/ipykernel_launcher.py:30: SettingWithCopyWarning: \n",
      "A value is trying to be set on a copy of a slice from a DataFrame\n",
      "\n",
      "See the caveats in the documentation: https://pandas.pydata.org/pandas-docs/stable/user_guide/indexing.html#returning-a-view-versus-a-copy\n",
      "/opt/conda/lib/python3.7/site-packages/ipykernel_launcher.py:31: SettingWithCopyWarning: \n",
      "A value is trying to be set on a copy of a slice from a DataFrame\n",
      "\n",
      "See the caveats in the documentation: https://pandas.pydata.org/pandas-docs/stable/user_guide/indexing.html#returning-a-view-versus-a-copy\n"
     ]
    }
   ],
   "source": [
    "#\n",
    "# Действительные координаты городов расположения отелей с NaN координатами\n",
    "# вручную подставляем координаты городов.\n",
    "vienna_lat_lng    = [48.209,16.372]\n",
    "paris_lat_lng     = [48.853, 2.348]\n",
    "barcelona_lat_lng = [41.389, 2.159]\n",
    "# создаем библиотеку из адресов NaN отелей и их координат для подстановки\n",
    "coordinate_nan_hotels = {'W hringer Stra e 33 35 09 Alsergrund 1090 Vienna Austria': vienna_lat_lng,\n",
    "                         'Gr nentorgasse 30 09 Alsergrund 1090 Vienna Austria': vienna_lat_lng,\n",
    "                         '23 Rue Damr mont 18th arr 75018 Paris France': paris_lat_lng,\n",
    "                         'Josefst dter Stra e 10 12 08 Josefstadt 1080 Vienna Austria': vienna_lat_lng,\n",
    "                         'Taborstra e 8 A 02 Leopoldstadt 1020 Vienna Austria': vienna_lat_lng,\n",
    "                         'Josefst dter Stra e 22 08 Josefstadt 1080 Vienna Austria': vienna_lat_lng,\n",
    "                         'Bail n 4 6 Eixample 08010 Barcelona Spain': barcelona_lat_lng,\n",
    "                         'Landstra er G rtel 5 03 Landstra e 1030 Vienna Austria': vienna_lat_lng,\n",
    "                         '4 rue de la P pini re 8th arr 75008 Paris France': paris_lat_lng,\n",
    "                         '20 Rue De La Ga t 14th arr 75014 Paris France': paris_lat_lng,\n",
    "                         'W hringer Stra e 12 09 Alsergrund 1090 Vienna Austria': vienna_lat_lng,\n",
    "                         'Savoyenstra e 2 16 Ottakring 1160 Vienna Austria': vienna_lat_lng,\n",
    "                         'Pau Clar s 122 Eixample 08009 Barcelona Spain': barcelona_lat_lng,\n",
    "                         'Sieveringer Stra e 4 19 D bling 1190 Vienna Austria': vienna_lat_lng,\n",
    "                         'Paragonstra e 1 11 Simmering 1110 Vienna Austria': vienna_lat_lng,\n",
    "                         'Hasenauerstra e 12 19 D bling 1190 Vienna Austria': vienna_lat_lng,\n",
    "                         'Sep lveda 180 Eixample 08011 Barcelona Spain': barcelona_lat_lng}\n",
    "#\n",
    "hot_addr_list = data_base['hotel_address'].to_list()\n",
    "#\n",
    "for i,hotel_address in enumerate(hot_addr_list):\n",
    "    if hotel_address in hotel_address_lat_nan:\n",
    "        data['lat'][i] = coordinate_nan_hotels[hotel_address][0]\n",
    "        data['lng'][i] = coordinate_nan_hotels[hotel_address][1]\n",
    "#"
   ]
  },
  {
   "cell_type": "markdown",
   "id": "5cfb78a8",
   "metadata": {
    "papermill": {
     "duration": 0.036197,
     "end_time": "2024-12-11T10:50:03.107098",
     "exception": false,
     "start_time": "2024-12-11T10:50:03.070901",
     "status": "completed"
    },
    "tags": []
   },
   "source": [
    "2. Страна\n",
    "3. Город\n",
    "\n",
    "   Находим из адреса"
   ]
  },
  {
   "cell_type": "code",
   "execution_count": 11,
   "id": "1e940fda",
   "metadata": {
    "execution": {
     "iopub.execute_input": "2024-12-11T10:50:03.192449Z",
     "iopub.status.busy": "2024-12-11T10:50:03.187220Z",
     "iopub.status.idle": "2024-12-11T10:50:05.032942Z",
     "shell.execute_reply": "2024-12-11T10:50:05.033333Z",
     "shell.execute_reply.started": "2024-12-09T16:31:04.424534Z"
    },
    "papermill": {
     "duration": 1.889772,
     "end_time": "2024-12-11T10:50:05.033493",
     "exception": false,
     "start_time": "2024-12-11T10:50:03.143721",
     "status": "completed"
    },
    "tags": []
   },
   "outputs": [
    {
     "name": "stdout",
     "output_type": "stream",
     "text": [
      "515738 ['Italy', 'Netherlands', 'Spain', 'United Kingdom', 'France', 'Austria']\n",
      "515738 ['Milan', 'Amsterdam', 'Barcelona', 'London', 'Paris', 'Vienna']\n"
     ]
    },
    {
     "data": {
      "text/html": [
       "<div>\n",
       "<style scoped>\n",
       "    .dataframe tbody tr th:only-of-type {\n",
       "        vertical-align: middle;\n",
       "    }\n",
       "\n",
       "    .dataframe tbody tr th {\n",
       "        vertical-align: top;\n",
       "    }\n",
       "\n",
       "    .dataframe thead th {\n",
       "        text-align: right;\n",
       "    }\n",
       "</style>\n",
       "<table border=\"1\" class=\"dataframe\">\n",
       "  <thead>\n",
       "    <tr style=\"text-align: right;\">\n",
       "      <th></th>\n",
       "      <th></th>\n",
       "      <th>hotel_address</th>\n",
       "      <th>additional_number_of_scoring</th>\n",
       "      <th>review_date</th>\n",
       "      <th>average_score</th>\n",
       "      <th>hotel_name</th>\n",
       "      <th>reviewer_nationality</th>\n",
       "      <th>negative_review</th>\n",
       "      <th>review_total_negative_word_counts</th>\n",
       "      <th>total_number_of_reviews</th>\n",
       "      <th>positive_review</th>\n",
       "      <th>review_total_positive_word_counts</th>\n",
       "      <th>total_number_of_reviews_reviewer_has_given</th>\n",
       "      <th>tags</th>\n",
       "      <th>days_since_review</th>\n",
       "      <th>lat</th>\n",
       "      <th>lng</th>\n",
       "      <th>sample</th>\n",
       "      <th>reviewer_score</th>\n",
       "    </tr>\n",
       "    <tr>\n",
       "      <th>hotel_country</th>\n",
       "      <th>hotel_city</th>\n",
       "      <th></th>\n",
       "      <th></th>\n",
       "      <th></th>\n",
       "      <th></th>\n",
       "      <th></th>\n",
       "      <th></th>\n",
       "      <th></th>\n",
       "      <th></th>\n",
       "      <th></th>\n",
       "      <th></th>\n",
       "      <th></th>\n",
       "      <th></th>\n",
       "      <th></th>\n",
       "      <th></th>\n",
       "      <th></th>\n",
       "      <th></th>\n",
       "      <th></th>\n",
       "      <th></th>\n",
       "    </tr>\n",
       "  </thead>\n",
       "  <tbody>\n",
       "    <tr>\n",
       "      <th>Austria</th>\n",
       "      <th>Vienna</th>\n",
       "      <td>38939</td>\n",
       "      <td>38939</td>\n",
       "      <td>38939</td>\n",
       "      <td>38939</td>\n",
       "      <td>38939</td>\n",
       "      <td>38939</td>\n",
       "      <td>38939</td>\n",
       "      <td>38939</td>\n",
       "      <td>38939</td>\n",
       "      <td>38939</td>\n",
       "      <td>38939</td>\n",
       "      <td>38939</td>\n",
       "      <td>38939</td>\n",
       "      <td>38939</td>\n",
       "      <td>38939</td>\n",
       "      <td>38939</td>\n",
       "      <td>38939</td>\n",
       "      <td>38939</td>\n",
       "    </tr>\n",
       "    <tr>\n",
       "      <th>France</th>\n",
       "      <th>Paris</th>\n",
       "      <td>59928</td>\n",
       "      <td>59928</td>\n",
       "      <td>59928</td>\n",
       "      <td>59928</td>\n",
       "      <td>59928</td>\n",
       "      <td>59928</td>\n",
       "      <td>59928</td>\n",
       "      <td>59928</td>\n",
       "      <td>59928</td>\n",
       "      <td>59928</td>\n",
       "      <td>59928</td>\n",
       "      <td>59928</td>\n",
       "      <td>59928</td>\n",
       "      <td>59928</td>\n",
       "      <td>59928</td>\n",
       "      <td>59928</td>\n",
       "      <td>59928</td>\n",
       "      <td>59928</td>\n",
       "    </tr>\n",
       "    <tr>\n",
       "      <th>Italy</th>\n",
       "      <th>Milan</th>\n",
       "      <td>37207</td>\n",
       "      <td>37207</td>\n",
       "      <td>37207</td>\n",
       "      <td>37207</td>\n",
       "      <td>37207</td>\n",
       "      <td>37207</td>\n",
       "      <td>37207</td>\n",
       "      <td>37207</td>\n",
       "      <td>37207</td>\n",
       "      <td>37207</td>\n",
       "      <td>37207</td>\n",
       "      <td>37207</td>\n",
       "      <td>37207</td>\n",
       "      <td>37207</td>\n",
       "      <td>37207</td>\n",
       "      <td>37207</td>\n",
       "      <td>37207</td>\n",
       "      <td>37207</td>\n",
       "    </tr>\n",
       "    <tr>\n",
       "      <th>Netherlands</th>\n",
       "      <th>Amsterdam</th>\n",
       "      <td>57214</td>\n",
       "      <td>57214</td>\n",
       "      <td>57214</td>\n",
       "      <td>57214</td>\n",
       "      <td>57214</td>\n",
       "      <td>57214</td>\n",
       "      <td>57214</td>\n",
       "      <td>57214</td>\n",
       "      <td>57214</td>\n",
       "      <td>57214</td>\n",
       "      <td>57214</td>\n",
       "      <td>57214</td>\n",
       "      <td>57214</td>\n",
       "      <td>57214</td>\n",
       "      <td>57214</td>\n",
       "      <td>57214</td>\n",
       "      <td>57214</td>\n",
       "      <td>57214</td>\n",
       "    </tr>\n",
       "    <tr>\n",
       "      <th>Spain</th>\n",
       "      <th>Barcelona</th>\n",
       "      <td>60149</td>\n",
       "      <td>60149</td>\n",
       "      <td>60149</td>\n",
       "      <td>60149</td>\n",
       "      <td>60149</td>\n",
       "      <td>60149</td>\n",
       "      <td>60149</td>\n",
       "      <td>60149</td>\n",
       "      <td>60149</td>\n",
       "      <td>60149</td>\n",
       "      <td>60149</td>\n",
       "      <td>60149</td>\n",
       "      <td>60149</td>\n",
       "      <td>60149</td>\n",
       "      <td>60149</td>\n",
       "      <td>60149</td>\n",
       "      <td>60149</td>\n",
       "      <td>60149</td>\n",
       "    </tr>\n",
       "    <tr>\n",
       "      <th>United Kingdom</th>\n",
       "      <th>London</th>\n",
       "      <td>262301</td>\n",
       "      <td>262301</td>\n",
       "      <td>262301</td>\n",
       "      <td>262301</td>\n",
       "      <td>262301</td>\n",
       "      <td>262301</td>\n",
       "      <td>262301</td>\n",
       "      <td>262301</td>\n",
       "      <td>262301</td>\n",
       "      <td>262301</td>\n",
       "      <td>262301</td>\n",
       "      <td>262301</td>\n",
       "      <td>262301</td>\n",
       "      <td>262301</td>\n",
       "      <td>262301</td>\n",
       "      <td>262301</td>\n",
       "      <td>262301</td>\n",
       "      <td>262301</td>\n",
       "    </tr>\n",
       "  </tbody>\n",
       "</table>\n",
       "</div>"
      ],
      "text/plain": [
       "                           hotel_address  additional_number_of_scoring  \\\n",
       "hotel_country  hotel_city                                                \n",
       "Austria        Vienna              38939                         38939   \n",
       "France         Paris               59928                         59928   \n",
       "Italy          Milan               37207                         37207   \n",
       "Netherlands    Amsterdam           57214                         57214   \n",
       "Spain          Barcelona           60149                         60149   \n",
       "United Kingdom London             262301                        262301   \n",
       "\n",
       "                           review_date  average_score  hotel_name  \\\n",
       "hotel_country  hotel_city                                           \n",
       "Austria        Vienna            38939          38939       38939   \n",
       "France         Paris             59928          59928       59928   \n",
       "Italy          Milan             37207          37207       37207   \n",
       "Netherlands    Amsterdam         57214          57214       57214   \n",
       "Spain          Barcelona         60149          60149       60149   \n",
       "United Kingdom London           262301         262301      262301   \n",
       "\n",
       "                           reviewer_nationality  negative_review  \\\n",
       "hotel_country  hotel_city                                          \n",
       "Austria        Vienna                     38939            38939   \n",
       "France         Paris                      59928            59928   \n",
       "Italy          Milan                      37207            37207   \n",
       "Netherlands    Amsterdam                  57214            57214   \n",
       "Spain          Barcelona                  60149            60149   \n",
       "United Kingdom London                    262301           262301   \n",
       "\n",
       "                           review_total_negative_word_counts  \\\n",
       "hotel_country  hotel_city                                      \n",
       "Austria        Vienna                                  38939   \n",
       "France         Paris                                   59928   \n",
       "Italy          Milan                                   37207   \n",
       "Netherlands    Amsterdam                               57214   \n",
       "Spain          Barcelona                               60149   \n",
       "United Kingdom London                                 262301   \n",
       "\n",
       "                           total_number_of_reviews  positive_review  \\\n",
       "hotel_country  hotel_city                                             \n",
       "Austria        Vienna                        38939            38939   \n",
       "France         Paris                         59928            59928   \n",
       "Italy          Milan                         37207            37207   \n",
       "Netherlands    Amsterdam                     57214            57214   \n",
       "Spain          Barcelona                     60149            60149   \n",
       "United Kingdom London                       262301           262301   \n",
       "\n",
       "                           review_total_positive_word_counts  \\\n",
       "hotel_country  hotel_city                                      \n",
       "Austria        Vienna                                  38939   \n",
       "France         Paris                                   59928   \n",
       "Italy          Milan                                   37207   \n",
       "Netherlands    Amsterdam                               57214   \n",
       "Spain          Barcelona                               60149   \n",
       "United Kingdom London                                 262301   \n",
       "\n",
       "                           total_number_of_reviews_reviewer_has_given    tags  \\\n",
       "hotel_country  hotel_city                                                       \n",
       "Austria        Vienna                                           38939   38939   \n",
       "France         Paris                                            59928   59928   \n",
       "Italy          Milan                                            37207   37207   \n",
       "Netherlands    Amsterdam                                        57214   57214   \n",
       "Spain          Barcelona                                        60149   60149   \n",
       "United Kingdom London                                          262301  262301   \n",
       "\n",
       "                           days_since_review     lat     lng  sample  \\\n",
       "hotel_country  hotel_city                                              \n",
       "Austria        Vienna                  38939   38939   38939   38939   \n",
       "France         Paris                   59928   59928   59928   59928   \n",
       "Italy          Milan                   37207   37207   37207   37207   \n",
       "Netherlands    Amsterdam               57214   57214   57214   57214   \n",
       "Spain          Barcelona               60149   60149   60149   60149   \n",
       "United Kingdom London                 262301  262301  262301  262301   \n",
       "\n",
       "                           reviewer_score  \n",
       "hotel_country  hotel_city                  \n",
       "Austria        Vienna               38939  \n",
       "France         Paris                59928  \n",
       "Italy          Milan                37207  \n",
       "Netherlands    Amsterdam            57214  \n",
       "Spain          Barcelona            60149  \n",
       "United Kingdom London              262301  "
      ]
     },
     "metadata": {},
     "output_type": "display_data"
    }
   ],
   "source": [
    "#display(hot_addr_list)\n",
    "countries_1=[] # список стран нахождения каждого отеля\n",
    "for value in hot_addr_list:\n",
    "    list_temp = value.split()\n",
    "    if list_temp[len(list_temp)-1] == 'Kingdom':\n",
    "         temp_country = 'United Kingdom'\n",
    "    else:\n",
    "         temp_country = list_temp[len(list_temp)-1]\n",
    "    countries_1.append(temp_country)\n",
    "uniq_countries_list = unique_elem_list(countries_1) # список уникальных стран\n",
    "print(len(countries_1),uniq_countries_list)\n",
    "data['hotel_country'] = countries_1\n",
    "#\n",
    "##display(hot_addr_list)\n",
    "cities_1=[] # список городов нахождения каждого отеля\n",
    "for value in hot_addr_list:\n",
    "    list_temp = value.split()\n",
    "    if list_temp[len(list_temp)-2] == 'United':\n",
    "         temp_city = 'London'\n",
    "    else:\n",
    "         temp_city = list_temp[len(list_temp)-2]\n",
    "    cities_1.append(temp_city)\n",
    "uniq_cities_list = unique_elem_list(cities_1) # список уникальных городов\n",
    "print(len(cities_1),uniq_cities_list)\n",
    "data['hotel_city'] = cities_1\n",
    "# Каждой стране принадлежит только один город\n",
    "#\n",
    "display(data.groupby(['hotel_country', 'hotel_city']).count())\n",
    "#\n",
    "#\n",
    "# Создание экземпляра класса OneHotEncoder()\n",
    "ohe_enc = OneHotEncoder()\n",
    "# Кодирование признака страны\n",
    "ohe_hot_countries = ohe_enc.fit_transform(data[['hotel_country']])\n",
    "#\n",
    "ohe_data = pd.DataFrame(ohe_hot_countries.toarray(), columns=list(*ohe_enc.categories_))\n",
    "data = pd.concat([data, ohe_data], axis=1)\n",
    "#\n",
    "# Кодирование признака города\n",
    "##ohe_hot_cities = ohe_enc.fit_transform(data[['hotel_city']])\n",
    "#\n",
    "##ohe_data = pd.DataFrame(ohe_hot_cities.toarray(), columns=list(*ohe_enc.categories_))\n",
    "##data = pd.concat([data, ohe_data], axis=1)\n",
    "\n",
    "\n",
    "\n"
   ]
  },
  {
   "cell_type": "markdown",
   "id": "591aeb00",
   "metadata": {
    "papermill": {
     "duration": 0.038104,
     "end_time": "2024-12-11T10:50:05.109591",
     "exception": false,
     "start_time": "2024-12-11T10:50:05.071487",
     "status": "completed"
    },
    "tags": []
   },
   "source": [
    "Так как один город соответствует одной стране, то будем кодировать только признак страны, а город\n",
    "не используем."
   ]
  },
  {
   "cell_type": "markdown",
   "id": "9f0d4cd5",
   "metadata": {
    "papermill": {
     "duration": 0.036738,
     "end_time": "2024-12-11T10:50:05.182996",
     "exception": false,
     "start_time": "2024-12-11T10:50:05.146258",
     "status": "completed"
    },
    "tags": []
   },
   "source": [
    "4. Национальность клиента.\n",
    "   Создаем группы стран происхождения клиентов."
   ]
  },
  {
   "cell_type": "code",
   "execution_count": 12,
   "id": "128a2e44",
   "metadata": {
    "execution": {
     "iopub.execute_input": "2024-12-11T10:50:05.265667Z",
     "iopub.status.busy": "2024-12-11T10:50:05.265110Z",
     "iopub.status.idle": "2024-12-11T10:50:12.317498Z",
     "shell.execute_reply": "2024-12-11T10:50:12.317021Z",
     "shell.execute_reply.started": "2024-12-09T16:31:06.294480Z"
    },
    "papermill": {
     "duration": 7.09804,
     "end_time": "2024-12-11T10:50:12.317639",
     "exception": false,
     "start_time": "2024-12-11T10:50:05.219599",
     "status": "completed"
    },
    "tags": []
   },
   "outputs": [
    {
     "data": {
      "text/plain": [
       "United Kingdom              245246\n",
       "United States of America     35437\n",
       "Australia                    21686\n",
       "Ireland                      14827\n",
       "United Arab Emirates         10235\n",
       "                             ...  \n",
       "Comoros                          1\n",
       "Anguilla                         1\n",
       "Tuvalu                           1\n",
       "Cape Verde                       1\n",
       "Palau                            1\n",
       "Name: reviewer_nationality, Length: 227, dtype: int64"
      ]
     },
     "metadata": {},
     "output_type": "display_data"
    }
   ],
   "source": [
    "# .strip() - удаление пробелов в начале и в конце\n",
    "data['reviewer_nationality'] = data['reviewer_nationality'].apply(lambda x: x.strip()) \n",
    "nationality_count = data[\"reviewer_nationality\"].value_counts() # частота встречаемости каждой национальности\n",
    "display(nationality_count)\n",
    "#\n",
    "# проанализируем страны, \n",
    "# из которых приезжают туристы и выделим общие группы:\n",
    "#\n",
    "united_kingdom = ['United Kingdom'] # группа туристов только из Великобритании\n",
    "data['reviewer_uk'] = data['reviewer_nationality'].apply(\n",
    "    lambda x: 1 if x in united_kingdom else 0)\n",
    "# туристы из англоязычных стран кроме GB\n",
    "english_list = ['United States of America', \n",
    "                'Australia', \n",
    "                'Canada', \n",
    "                'New Zealand',\n",
    "                'India',\n",
    "                ]\n",
    "data['reviewer_en'] = data['reviewer_nationality'].apply(\n",
    "    lambda x: 1 if x in english_list else 0)\n",
    "#\n",
    "# выделим мусульманские страны ближневосточного региона:\n",
    "muslim_list = ['United Arab Emirates', \n",
    "               'Saudi Arabia', \n",
    "               'Turkey', \n",
    "               'Kuwait', \n",
    "               'Qatar', \n",
    "               'Oman']\n",
    "data['reviewer_n_est'] = data['reviewer_nationality'].apply(\n",
    "    lambda x: 1 if x in muslim_list else 0)\n",
    "#страны СНГ\n",
    "sng_list = ['Ukraine', 'Belarus', 'Moldova', 'Russia', 'Kazakhstan']\n",
    "data['reviewer_sng'] = data['reviewer_nationality'].apply(\n",
    "    lambda x: 1 if x in sng_list else 0)\n",
    "#\n",
    "# Страны Дальнего востока\n",
    "china_list = ['Japan', 'China']\n",
    "data['reviewer_china'] = data['reviewer_nationality'].apply(\n",
    "    lambda x: 1 if x in china_list else 0)\n",
    "# добавим признак резидентства туриста по отношению к стране, в которой находится отель:\n",
    "data['reviewer_resident'] = data.apply(\n",
    "    lambda row: 1 if row['reviewer_nationality'] == row['hotel_country'] else 0, axis=1)\n",
    "#"
   ]
  },
  {
   "cell_type": "markdown",
   "id": "b556b65f",
   "metadata": {
    "papermill": {
     "duration": 0.03878,
     "end_time": "2024-12-11T10:50:12.393984",
     "exception": false,
     "start_time": "2024-12-11T10:50:12.355204",
     "status": "completed"
    },
    "tags": []
   },
   "source": [
    " Визуализируем признаки национальности клиентов"
   ]
  },
  {
   "cell_type": "code",
   "execution_count": 13,
   "id": "043f1e98",
   "metadata": {
    "execution": {
     "iopub.execute_input": "2024-12-11T10:50:12.479507Z",
     "iopub.status.busy": "2024-12-11T10:50:12.478846Z",
     "iopub.status.idle": "2024-12-11T10:50:13.431864Z",
     "shell.execute_reply": "2024-12-11T10:50:13.432229Z",
     "shell.execute_reply.started": "2024-12-09T16:31:13.220509Z"
    },
    "papermill": {
     "duration": 1.00045,
     "end_time": "2024-12-11T10:50:13.432408",
     "exception": false,
     "start_time": "2024-12-11T10:50:12.431958",
     "status": "completed"
    },
    "tags": []
   },
   "outputs": [
    {
     "data": {
      "image/png": "[encoded data removed]",
      "text/plain": [
       "<Figure size 1152x432 with 1 Axes>"
      ]
     },
     "metadata": {
      "needs_background": "light"
     },
     "output_type": "display_data"
    }
   ],
   "source": [
    "# подготовим данные для диаграммы:\n",
    "mask = data['sample'] == 1\n",
    "pivot_uk = data[mask].groupby('reviewer_uk')['reviewer_score'].mean()\n",
    "pivot_en = data[mask].groupby('reviewer_en')['reviewer_score'].mean()\n",
    "pivot_n_est = data[mask].groupby('reviewer_n_est')['reviewer_score'].mean()\n",
    "pivot_sng = data[mask].groupby('reviewer_sng')['reviewer_score'].mean()\n",
    "pivot_china = data[mask].groupby('reviewer_china')['reviewer_score'].mean()\n",
    "pivot_resident = data[mask].groupby('reviewer_resident')['reviewer_score'].mean()\n",
    "#\n",
    "pivot = pd.DataFrame({\n",
    "    'из UK': pivot_uk,\n",
    "    'англоязычной страны': pivot_en,\n",
    "    'ближнев. мусульманской страны': pivot_n_est,\n",
    "    'из СНГ': pivot_sng,\n",
    "    'с дальнего вост.': pivot_china,\n",
    "    'путешествует по своей стране': pivot_resident \n",
    "}).T\n",
    "\n",
    "# строим диаграмму:\n",
    "fig2, ax2 = plt.subplots(figsize=(16, 6))\n",
    "pivot_barplot = pivot.plot(\n",
    "    ax=ax2, \n",
    "    kind='bar', \n",
    "    color=['mediumslateblue', 'seagreen'], \n",
    "    rot=0)\n",
    "ax2.set_title(\n",
    "    ' показатели оценок туристов от групп национальностей клиента', size=16)\n",
    "ax2.legend(['нет', 'да'], loc='upper right', fontsize=14)\n",
    "#\n",
    "for p in pivot_barplot.patches:\n",
    "    pivot_barplot.annotate('{:.2f}'.format(p.get_height()), (p.get_x()+0.1, p.get_height()),\n",
    "    ha='center', va='bottom', fontsize=18)\n",
    "#\n",
    "plt.ylim(7, 9.5);"
   ]
  },
  {
   "cell_type": "markdown",
   "id": "2fb36c9c",
   "metadata": {
    "papermill": {
     "duration": 0.037822,
     "end_time": "2024-12-11T10:50:13.509135",
     "exception": false,
     "start_time": "2024-12-11T10:50:13.471313",
     "status": "completed"
    },
    "tags": []
   },
   "source": [
    "Синим цветом показаны оценки дпнной группы национальностей. Зеленым - оценки всех других национальностей. Туристы с дальнего востока и путешествующие по своей стране оценивают отели приблизительно как и остальные. Эти признаки, наверное, можно исключить ( так и получилось в итоге)."
   ]
  },
  {
   "cell_type": "code",
   "execution_count": 14,
   "id": "2a1af7f1",
   "metadata": {
    "execution": {
     "iopub.execute_input": "2024-12-11T10:50:13.627738Z",
     "iopub.status.busy": "2024-12-11T10:50:13.601693Z",
     "iopub.status.idle": "2024-12-11T10:50:20.698241Z",
     "shell.execute_reply": "2024-12-11T10:50:20.697755Z",
     "shell.execute_reply.started": "2024-12-09T16:31:14.140815Z"
    },
    "papermill": {
     "duration": 7.151078,
     "end_time": "2024-12-11T10:50:20.698398",
     "exception": false,
     "start_time": "2024-12-11T10:50:13.547320",
     "status": "completed"
    },
    "tags": []
   },
   "outputs": [
    {
     "name": "stdout",
     "output_type": "stream",
     "text": [
      "515738 227\n",
      "['United Kingdom', 'United States of America', 'Australia', 'Ireland', 'United Arab Emirates', 'Saudi Arabia', 'Netherlands', 'Switzerland', 'Germany', 'Canada', 'France', 'Israel', 'Italy', 'Belgium', 'Turkey', 'Kuwait', 'Spain', 'Romania', 'Russia', 'South Africa', 'India', 'Greece', 'China', 'Sweden', 'New Zealand', 'Singapore', 'Hong Kong', 'Poland', 'Qatar', 'Austria', 'Egypt', 'Norway', 'Czech Republic', 'Lebanon', 'Hungary', 'Malaysia', 'Thailand', 'Brazil', 'Portugal', 'Finland', 'Denmark', 'Malta', 'Bahrain', 'Indonesia', 'Cyprus', 'Luxembourg', 'Croatia', 'Oman', 'Bulgaria', 'Japan', 'Serbia', 'Ukraine', 'Iran', 'South Korea', 'Philippines', 'Nigeria', 'Iceland', 'Taiwan', 'Pakistan', 'Slovakia', 'Jersey', 'Slovenia', 'Estonia', 'Jordan', 'Lithuania', 'Latvia', 'Mexico', 'Guernsey', '', 'Argentina', 'Isle of Man', 'Gibraltar', 'Chile', 'Georgia', 'Iraq', 'Albania', 'Sri Lanka', 'Macedonia', 'Kazakhstan', 'Azerbaijan', 'Colombia', 'Kenya', 'Monaco', 'Bosnia and Herzegovina', 'Morocco', 'Mauritius', 'Montenegro', 'Belarus', 'Vietnam', 'Puerto Rico', 'Trinidad and Tobago', 'Abkhazia Georgia', 'Bangladesh', 'Ghana', 'Armenia', 'Panama', 'Costa Rica', 'Peru', 'Macau', 'Moldova']\n"
     ]
    },
    {
     "name": "stderr",
     "output_type": "stream",
     "text": [
      "/opt/conda/lib/python3.7/site-packages/ipykernel_launcher.py:29: SettingWithCopyWarning: \n",
      "A value is trying to be set on a copy of a slice from a DataFrame\n",
      "\n",
      "See the caveats in the documentation: https://pandas.pydata.org/pandas-docs/stable/user_guide/indexing.html#returning-a-view-versus-a-copy\n"
     ]
    }
   ],
   "source": [
    "\n",
    "#\n",
    "nation_list = data['reviewer_nationality'].to_list() # список стран проживания каждого клиента\n",
    "#\n",
    "uniq_nation_list = unique_elem_list(nation_list) # список уникальных национальностей\n",
    "print(len(nation_list),len(uniq_nation_list))\n",
    "#\n",
    "counter = (collections.Counter(nation_list)) # словарь национальностей по частоте встречаемости\n",
    "nation_dict = dict(counter)\n",
    "##display(nation_dict)\n",
    "# сортируем словарь национальностей по убыванию количества клиентов\n",
    "#\n",
    "nation_dict = {k: nation_dict[k] for k in sorted(nation_dict, key=nation_dict.get, reverse=True)}\n",
    "#\n",
    "##display(nation_dict)\n",
    "# найдем первые по количеству 100 национальностей\n",
    "i_1 = 1\n",
    "short_nation_dict = {}\n",
    "for j_1,key_1 in enumerate(nation_dict):\n",
    "    if i_1 <=100:\n",
    "           short_nation_dict[key_1] = nation_dict[key_1]\n",
    "    else:\n",
    "           break\n",
    "    i_1 = i_1+1\n",
    "#\n",
    "keys_list = list(short_nation_dict.keys()) # список из ключей словаря short_nation_dict\n",
    "print(keys_list)\n",
    "for j_2,value_2 in enumerate(nation_list):\n",
    "    if value_2 not in keys_list:\n",
    "          data['reviewer_nationality'][j_2] = 'other'\n",
    "#\n",
    "# применим порядковое кодирование:\n",
    "ord_enc = OrdinalEncoder()\n",
    "# Кодирование признака\n",
    "data['nation_100'] = ord_enc.fit_transform(data[['reviewer_nationality']])\n",
    "#"
   ]
  },
  {
   "cell_type": "markdown",
   "id": "3204112c",
   "metadata": {
    "papermill": {
     "duration": 0.038873,
     "end_time": "2024-12-11T10:50:20.777035",
     "exception": false,
     "start_time": "2024-12-11T10:50:20.738162",
     "status": "completed"
    },
    "tags": []
   },
   "source": [
    "5. Year\n",
    "6. Month\n",
    "\n",
    "   Из признака 'review_date'"
   ]
  },
  {
   "cell_type": "code",
   "execution_count": 15,
   "id": "fca16e36",
   "metadata": {
    "execution": {
     "iopub.execute_input": "2024-12-11T10:50:20.876069Z",
     "iopub.status.busy": "2024-12-11T10:50:20.875572Z",
     "iopub.status.idle": "2024-12-11T10:50:21.294091Z",
     "shell.execute_reply": "2024-12-11T10:50:21.293660Z",
     "shell.execute_reply.started": "2024-12-09T16:31:21.863952Z"
    },
    "papermill": {
     "duration": 0.478194,
     "end_time": "2024-12-11T10:50:21.294216",
     "exception": false,
     "start_time": "2024-12-11T10:50:20.816022",
     "status": "completed"
    },
    "tags": []
   },
   "outputs": [],
   "source": [
    "# получение year  и monyh из data\n",
    "#\n",
    "data['review_date']  = pd.to_datetime(data['review_date'])\n",
    "data['review_year']  = data['review_date'].dt.year\n",
    "data['review_month'] = data['review_date'].dt.month\n",
    "data = data.drop(['review_date'],axis=1)\n",
    "#data.head()"
   ]
  },
  {
   "cell_type": "markdown",
   "id": "03d7e3d1",
   "metadata": {
    "papermill": {
     "duration": 0.039123,
     "end_time": "2024-12-11T10:50:21.373012",
     "exception": false,
     "start_time": "2024-12-11T10:50:21.333889",
     "status": "completed"
    },
    "tags": []
   },
   "source": [
    "7. Количество дней в отеле, проведенные клиентом\n",
    "\n",
    "   Из признака 'tags'"
   ]
  },
  {
   "cell_type": "code",
   "execution_count": 16,
   "id": "3aaa56c4",
   "metadata": {
    "execution": {
     "iopub.execute_input": "2024-12-11T10:50:21.486963Z",
     "iopub.status.busy": "2024-12-11T10:50:21.473046Z",
     "iopub.status.idle": "2024-12-11T10:50:26.738487Z",
     "shell.execute_reply": "2024-12-11T10:50:26.738009Z",
     "shell.execute_reply.started": "2024-12-09T16:31:22.320711Z"
    },
    "papermill": {
     "duration": 5.32627,
     "end_time": "2024-12-11T10:50:26.738644",
     "exception": false,
     "start_time": "2024-12-11T10:50:21.412374",
     "status": "completed"
    },
    "tags": []
   },
   "outputs": [
    {
     "name": "stdout",
     "output_type": "stream",
     "text": [
      "длина списка групп тегов 515738\n"
     ]
    }
   ],
   "source": [
    "# создаем списки тегов для каждого отдельного клиента по числу строк в таблице\n",
    "#\n",
    "# tags_group_list список групп тегов (от каждого клиента по одной группе),группа - это строка, \n",
    "# состоящая из строк всех тегов от каждого клиента\n",
    "#\n",
    "tags_group_list_1 = data['tags'].values\n",
    "tags_group_list = list(tags_group_list_1)\n",
    "print('длина списка групп тегов', len(tags_group_list))\n",
    "stayed_list = []\n",
    "tags_list = []\n",
    "tags_list_sum = []\n",
    "i_1=0\n",
    "tags_dict = {}\n",
    "for tag_group in tags_group_list:\n",
    "    tags = tag_group.split(', ')\n",
    "    for tag in tags:\n",
    "        clean_tag = re.sub(r'[\\'\\[\\]]', '', tag)\n",
    "        tags_list.append(clean_tag)\n",
    "        tags_list_sum.append(clean_tag) # спмсок всех тэгов подряд как идут\n",
    "    tags_list_1 = tags_list.copy()\n",
    "    #\n",
    "    # tags_dict словарь: key - порядковый номер клиента\n",
    "    # значение - список тегов клиента\n",
    "    tags_dict[i_1] = tags_list_1 \n",
    "    tags_list.clear()  \n",
    "    i_1=i_1+1\n",
    "    #\n",
    "#display(len(tags_dict),tags_dict)"
   ]
  },
  {
   "cell_type": "code",
   "execution_count": 17,
   "id": "4f314dd9",
   "metadata": {
    "execution": {
     "iopub.execute_input": "2024-12-11T10:50:26.846496Z",
     "iopub.status.busy": "2024-12-11T10:50:26.820209Z",
     "iopub.status.idle": "2024-12-11T10:50:27.525054Z",
     "shell.execute_reply": "2024-12-11T10:50:27.525648Z",
     "shell.execute_reply.started": "2024-12-09T16:31:27.530900Z"
    },
    "papermill": {
     "duration": 0.746637,
     "end_time": "2024-12-11T10:50:27.525820",
     "exception": false,
     "start_time": "2024-12-11T10:50:26.779183",
     "status": "completed"
    },
    "tags": []
   },
   "outputs": [
    {
     "name": "stdout",
     "output_type": "stream",
     "text": [
      "515738\n",
      "самое популярное количество дней пребывания 1\n"
     ]
    }
   ],
   "source": [
    "# создание списка количества дней stayed_list\n",
    "#\n",
    "stayed_list = []\n",
    "for key_2 in tags_dict:\n",
    "    j_2 = 0\n",
    "    for str_2 in tags_dict[key_2]:\n",
    "            if 'Stayed' in str_2 and j_2 ==0:\n",
    "                list_temp = str_2.split()\n",
    "                numb_2 = list_temp[1]\n",
    "                stayed_list.append(numb_2)\n",
    "                j_2 = 1\n",
    "    if j_2 == 0:\n",
    "        stayed_list.append('888')  # ставим 888, если дни пребывания не указаны\n",
    "#\n",
    "print(len(stayed_list))\n",
    "len(tags_dict)\n",
    "#\n",
    "#  определяем самое частое количество дней пребывания\n",
    "#\n",
    "counts = Counter(stayed_list)\n",
    "greatest = max(counts.values())\n",
    "days_max = random.choice([item for item, count in counts.items() if count == greatest])\n",
    "print('самое популярное количество дней пребывания',days_max)\n",
    "#\n",
    "stayed_list = [days_max if x == '888' else x for x in stayed_list] # замена '888' на '1'\n",
    "\n",
    "#\n",
    "data['stayed_days'] = stayed_list\n",
    "data['stayed_days'] = pd.to_numeric(data['stayed_days']) # перевод строки в число в столбце dataframe\n",
    "data['stayed_days'].replace({888: days_max}, inplace=True)\n"
   ]
  },
  {
   "cell_type": "code",
   "execution_count": 18,
   "id": "636dc8d9",
   "metadata": {
    "execution": {
     "iopub.execute_input": "2024-12-11T10:50:27.609461Z",
     "iopub.status.busy": "2024-12-11T10:50:27.608920Z",
     "iopub.status.idle": "2024-12-11T10:50:28.159200Z",
     "shell.execute_reply": "2024-12-11T10:50:28.159643Z",
     "shell.execute_reply.started": "2024-12-09T16:31:28.223087Z"
    },
    "papermill": {
     "duration": 0.594565,
     "end_time": "2024-12-11T10:50:28.159790",
     "exception": false,
     "start_time": "2024-12-11T10:50:27.565225",
     "status": "completed"
    },
    "tags": []
   },
   "outputs": [
    {
     "data": {
      "image/png": "[encoded data removed]",
      "text/plain": [
       "<Figure size 1080x504 with 1 Axes>"
      ]
     },
     "metadata": {
      "needs_background": "light"
     },
     "output_type": "display_data"
    }
   ],
   "source": [
    "pivot_nights = pd.pivot_table(\n",
    "    data[data['sample'] == 1], \n",
    "    index='stayed_days', \n",
    "    values='reviewer_score', \n",
    "    aggfunc=['count', 'mean'])\n",
    "fig3, ax3 = plt.subplots(figsize=(15, 7))\n",
    "plt.suptitle(\n",
    "    'Распределение количества отзывов в зависимости от длительности пребывания', size=20)\n",
    "sns.barplot(x=pivot_nights.index, y=pivot_nights[('count', 'reviewer_score')]);"
   ]
  },
  {
   "cell_type": "markdown",
   "id": "3ca695cd",
   "metadata": {
    "papermill": {
     "duration": 0.04033,
     "end_time": "2024-12-11T10:50:28.240412",
     "exception": false,
     "start_time": "2024-12-11T10:50:28.200082",
     "status": "completed"
    },
    "tags": []
   },
   "source": [
    "Самое большое количество отзывов написано клиентами, останавливающимпеся 1-3 дня. Потом существенный спад. Таким образом видно, что этот признак значим, по крайней мере, для количества\n",
    "отзывов и очень возможно существенно повлияет и на итоговую оценку."
   ]
  },
  {
   "cell_type": "code",
   "execution_count": 19,
   "id": "91451f77",
   "metadata": {
    "execution": {
     "iopub.execute_input": "2024-12-11T10:50:28.330527Z",
     "iopub.status.busy": "2024-12-11T10:50:28.329657Z",
     "iopub.status.idle": "2024-12-11T10:50:28.761109Z",
     "shell.execute_reply": "2024-12-11T10:50:28.761534Z",
     "shell.execute_reply.started": "2024-12-09T16:31:28.791164Z"
    },
    "papermill": {
     "duration": 0.481796,
     "end_time": "2024-12-11T10:50:28.761685",
     "exception": false,
     "start_time": "2024-12-11T10:50:28.279889",
     "status": "completed"
    },
    "tags": []
   },
   "outputs": [
    {
     "name": "stdout",
     "output_type": "stream",
     "text": [
      "[1, 2, 3, 4, 5, 6, 7, 8, 9, 10, 11, 12, 13, 14, 15, 16, 17, 18, 19, 20, 21, 22, 23, 24, 25, 26, 27, 28, 29, 30, 31]\n"
     ]
    },
    {
     "data": {
      "image/png": "[encoded data removed]",
      "text/plain": [
       "<Figure size 1080x360 with 1 Axes>"
      ]
     },
     "metadata": {
      "needs_background": "light"
     },
     "output_type": "display_data"
    }
   ],
   "source": [
    "# график зависимости средней оценки клиентом отеля от количества дней проживания.\n",
    "#\n",
    "\n",
    "unique_stayed = list(set(stayed_list)) # получим уникальное количество дней проживания\n",
    "unique_stayed_1 = []\n",
    "for j_1, val_1 in enumerate(unique_stayed):\n",
    "     temp = int(val_1)\n",
    "     unique_stayed_1.append(temp)\n",
    "     unique_stayed_1.sort()\n",
    "print(unique_stayed_1)\n",
    "#\n",
    "score_mean_1 = []\n",
    "#\n",
    "for i_1, value_1 in enumerate(unique_stayed_1):\n",
    "      temp_1 = data[(data['stayed_days']==value_1) & (data['sample']==1)].reviewer_score.mean()\n",
    "      score_mean_1.append(temp_1)\n",
    "# bar диаграмма (оценка от типа комнаты)\n",
    "#\n",
    "plt.figure(figsize=(15,5))\n",
    "plt.bar(unique_stayed_1, score_mean_1)\n",
    "plt.title(\"Зависимость оценки клиента от количества дней проживания\")\n",
    "plt.ylabel(\"оценка \")\n",
    "plt.xlabel(\"количество дней \")\n",
    "plt.show()\n",
    "#"
   ]
  },
  {
   "cell_type": "markdown",
   "id": "41bb59c9",
   "metadata": {
    "papermill": {
     "duration": 0.040149,
     "end_time": "2024-12-11T10:50:28.843217",
     "exception": false,
     "start_time": "2024-12-11T10:50:28.803068",
     "status": "completed"
    },
    "tags": []
   },
   "source": [
    "выходит, что люди, проживающие 1-3 дня славят подавляющее большинство оценок и эти оценки, как видно из диаграммы, стабильно >8. Т.о. признак 'stayed_days' скорее всего полезный."
   ]
  },
  {
   "cell_type": "markdown",
   "id": "6dc7c7d6",
   "metadata": {
    "papermill": {
     "duration": 0.039846,
     "end_time": "2024-12-11T10:50:28.923068",
     "exception": false,
     "start_time": "2024-12-11T10:50:28.883222",
     "status": "completed"
    },
    "tags": []
   },
   "source": [
    "8. создаем признаки из тегов:\n",
    "                 1. тип путешествия\n",
    "                 2. Состав путешественников"
   ]
  },
  {
   "cell_type": "code",
   "execution_count": 20,
   "id": "2669e9ef",
   "metadata": {
    "execution": {
     "iopub.execute_input": "2024-12-11T10:50:29.052957Z",
     "iopub.status.busy": "2024-12-11T10:50:29.016527Z",
     "iopub.status.idle": "2024-12-11T10:50:30.937942Z",
     "shell.execute_reply": "2024-12-11T10:50:30.938326Z",
     "shell.execute_reply.started": "2024-12-09T16:31:29.236373Z"
    },
    "papermill": {
     "duration": 1.975091,
     "end_time": "2024-12-11T10:50:30.938484",
     "exception": false,
     "start_time": "2024-12-11T10:50:28.963393",
     "status": "completed"
    },
    "tags": []
   },
   "outputs": [],
   "source": [
    "# списки для групп тэгов о типе путешествия\n",
    "leisure_list     = []\n",
    "business_list    = []\n",
    "#\n",
    "# списки для групп тэгов о составе путешественников\n",
    "couple_list       = []\n",
    "solo_list         = []\n",
    "group_list        = []\n",
    "fam_y_ch_list     = []\n",
    "fam_o_ch_list     = []\n",
    "sub_mob_dev_list  = []\n",
    "trev_friends_list = []\n",
    "#\n",
    "ice_1 = 0\n",
    "for key_4 in tags_dict:\n",
    "    if ' Leisure trip '  in tags_dict[key_4]:\n",
    "        leisure_list.append(1)\n",
    "    else:\n",
    "        leisure_list.append(0)\n",
    "#\n",
    "for key_4 in tags_dict:\n",
    "    if ' Business trip '  in tags_dict[key_4]:\n",
    "        business_list.append(1)\n",
    "    else:\n",
    "        business_list.append(0)\n",
    "#\n",
    "for key_4 in tags_dict:\n",
    "    if ' Couple '  in tags_dict[key_4]:\n",
    "        couple_list.append(1)\n",
    "    else:\n",
    "        couple_list.append(0)\n",
    "#\n",
    "for key_4 in tags_dict:\n",
    "    if ' Solo traveler '  in tags_dict[key_4]:\n",
    "        solo_list.append(1)\n",
    "    else:\n",
    "        solo_list.append(0)\n",
    "#\n",
    "for key_4 in tags_dict:\n",
    "    if ' Group '  in tags_dict[key_4]:\n",
    "        group_list.append(1)\n",
    "    else:\n",
    "        group_list.append(0)\n",
    "#\n",
    "for key_4 in tags_dict:\n",
    "    if ' Travelers with friends '  in tags_dict[key_4]:\n",
    "        trev_friends_list.append(1)\n",
    "    else:\n",
    "        trev_friends_list.append(0)\n",
    "#\n",
    "for key_4 in tags_dict:\n",
    "    if ' Family with young children '  in tags_dict[key_4]:\n",
    "        fam_y_ch_list.append(1)\n",
    "    else:\n",
    "        fam_y_ch_list.append(0)\n",
    "#\n",
    "for key_4 in tags_dict:\n",
    "    if ' Family with older children '  in tags_dict[key_4]:\n",
    "        fam_o_ch_list.append(1)\n",
    "    else:\n",
    "        fam_o_ch_list.append(0)\n",
    "#\n",
    "for key_4 in tags_dict:\n",
    "    if ' Submitted from a mobile device '  in tags_dict[key_4]:\n",
    "        sub_mob_dev_list.append(1)\n",
    "    else:\n",
    "        sub_mob_dev_list.append(0)\n",
    "#  новые признаки (уже оцифрованные)\n",
    "#\n",
    "data['Leisure_trip']    = leisure_list\n",
    "data['Business_trip']   = business_list\n",
    "data['Couple']          = couple_list\n",
    "data['Solo_traveler']   = solo_list\n",
    "data['Group']           = group_list\n",
    "data['Travelers with friends'] = trev_friends_list\n",
    "data['Family_young_ch'] = fam_y_ch_list\n",
    "data['Family_older_ch'] = fam_o_ch_list\n",
    "data['Submit_mobile']   = sub_mob_dev_list\n",
    "#\n",
    "##    business_list.append(lambda x: 1 if ' Business trip ' in tags_dict[key_4] else 0)\n",
    "##    couple_list.append(lambda x: 1   if ' Couple '        in tags_dict[key_4] else 0)\n",
    "##    solo_list.append(lambda x: 1     if ' Solo traveler ' in tags_dict[key_4] else 0)\n",
    "##    group_list.append(lambda x: 1    if ' Group '         in tags_dict[key_4] else 0)\n",
    "##    fam_y_ch_list.append(lambda x: 1 if ' Family with young children ' in tags_dict[key_4] else 0)\n",
    "##    fam_o_ch_list.append(lambda x: 1 if ' Family with older children ' in tags_dict[key_4] else 0)\n",
    "#\n",
    "##    data['Couple']          = (lambda x: 1 if ' Couple '        in tags_dict[key_4] else 0)\n",
    "##    data['Solo_traveler']   = (lambda x: 1 if ' Solo traveler ' in tags_dict[key_4] else 0)\n",
    "##    data['Group']           = (lambda x: 1 if ' Group '         in tags_dict[key_4] else 0)\n",
    "##    data['Family_young_ch'] = (lambda x: 1 if ' Family with young children ' in tags_dict[key_4] else 0)\n",
    "##    data['Family_older_ch'] = (lambda x: 1 if ' Family with older children ' in tags_dict[key_4] else 0)"
   ]
  },
  {
   "cell_type": "markdown",
   "id": "85d7573a",
   "metadata": {
    "papermill": {
     "duration": 0.040659,
     "end_time": "2024-12-11T10:50:31.020172",
     "exception": false,
     "start_time": "2024-12-11T10:50:30.979513",
     "status": "completed"
    },
    "tags": []
   },
   "source": [
    "Создание признаков на основании тегов, касающихся номеров отеля"
   ]
  },
  {
   "cell_type": "code",
   "execution_count": 21,
   "id": "917f485c",
   "metadata": {
    "execution": {
     "iopub.execute_input": "2024-12-11T10:50:31.287577Z",
     "iopub.status.busy": "2024-12-11T10:50:31.108980Z",
     "iopub.status.idle": "2024-12-11T10:50:31.789828Z",
     "shell.execute_reply": "2024-12-11T10:50:31.789229Z",
     "shell.execute_reply.started": "2024-12-09T16:31:31.246060Z"
    },
    "papermill": {
     "duration": 0.729288,
     "end_time": "2024-12-11T10:50:31.789947",
     "exception": false,
     "start_time": "2024-12-11T10:50:31.060659",
     "status": "completed"
    },
    "tags": []
   },
   "outputs": [
    {
     "name": "stdout",
     "output_type": "stream",
     "text": [
      "всего уникальных тэгов  2428\n",
      "всего уникальных тэгов после удаления всех меток, собранных в группы номеров отелей  232\n"
     ]
    }
   ],
   "source": [
    "# tags_all_dict - словарь, где key - это уникальный тэг, value - количество встречаемости тэга\n",
    "tags_all_dict = dict.fromkeys(tags_list_sum, 0)\n",
    "print('всего уникальных тэгов ',len(tags_all_dict))\n",
    "#\n",
    "for i_1,value_1 in enumerate(tags_list_sum):\n",
    "    tags_all_dict[value_1] = tags_all_dict[value_1] +1\n",
    "# сортируем словарь тегов tags_all_dict  по убыванию количества встречаемости\n",
    "#\n",
    "tags_all_dict = {k: tags_all_dict[k] for k in sorted(tags_all_dict, key=tags_all_dict.get, reverse=True)}\n",
    "#\n",
    "#\n",
    "#\n",
    "mask_2 = [' Leisure trip ',' Business trip ',' Couple ',' Solo traveler ',' Group ',\\\n",
    "          ' Travelers with friends ',' Family with young children ',' Family with older children ',\\\n",
    "          ' Submitted from a mobile device ']\n",
    "# стремимся удалить все тэги, кроме касающихся номеров отелей\n",
    "#\n",
    "tags_all_dict_1 = tags_all_dict.copy() # оставляем словарь tags_all_dict в изначальном виде\n",
    "for value_3 in mask_2:\n",
    "    if value_3 in tags_all_dict:\n",
    "        del tags_all_dict_1[value_3]\n",
    "for i_3, key_3 in enumerate(tags_all_dict):\n",
    "    if 'Stayed' in key_3:\n",
    "        del tags_all_dict_1[key_3]\n",
    "#display(tags_all_dict_1)\n",
    "# теперь словарь tags_all_dict_1 включает в себя , в основном, только информацию о номерах\n",
    "#\n",
    "# соберем метки под характерные признаки номеров отелей\n",
    "mask_3 = ['Standard','Superior','Deluxe','Classic','Single',\\\n",
    "          'Executive','Club','Queen','King','Premier','Suite','Triple','Double','2 rooms','Twin']\n",
    "#\n",
    "rooms_list = []\n",
    "rooms_dict = {} # создаем словарь признаков номеров\n",
    "j_4 = 0\n",
    "for value_4 in mask_3:\n",
    "      for i_4, key_4 in enumerate(tags_all_dict):\n",
    "          if value_4 in key_4:\n",
    "              rooms_list.append(key_4)\n",
    "              if key_4 in tags_all_dict_1:\n",
    "                 del tags_all_dict_1[key_4]\n",
    "      rooms_list_1 = rooms_list.copy()\n",
    "      rooms_dict[value_4] = rooms_list_1 # словарь: key - будущий признак; \n",
    "    #                                       value - тэги отелей, подходящих под этот признак\n",
    "      rooms_list.clear()\n",
    "#\n",
    "# объединяем три последних признака и отправляем в Double\n",
    "#\n",
    "rooms_keys_list = list(rooms_dict.keys())\n",
    "#\n",
    "key_1 = rooms_keys_list[-1]\n",
    "temp_list_1 = rooms_dict.get(key_1)\n",
    "#\n",
    "key_2 = rooms_keys_list[-2]\n",
    "temp_list_2 = rooms_dict.get(key_2)\n",
    "#\n",
    "key_3 = rooms_keys_list[-3]\n",
    "temp_list_3 = rooms_dict.get(key_3)\n",
    "#\n",
    "temp_list = temp_list_1 + temp_list_2 + temp_list_3\n",
    "del rooms_dict['Double']\n",
    "del rooms_dict['2 rooms']\n",
    "del rooms_dict['Twin']\n",
    "#\n",
    "rooms_dict['Double'] = temp_list\n",
    "#\n",
    "# создаем list из оставшихся ключей словаря tags_all_dict_1\n",
    "#\n",
    "keys_list = list(tags_all_dict_1.keys())\n",
    "rooms_dict['others'] = keys_list # последний признак формируем из оставшихся тэгов\n",
    "#\n",
    "print('всего уникальных тэгов после удаления всех меток, собранных в группы номеров отелей ',len(tags_all_dict_1))\n",
    "#print(len(rooms_dict),rooms_dict)\n",
    "#\n",
    "##print(tags_all_dict_1)\n",
    "\n",
    "   "
   ]
  },
  {
   "cell_type": "code",
   "execution_count": 22,
   "id": "b4120bef",
   "metadata": {
    "execution": {
     "iopub.execute_input": "2024-12-11T10:50:31.930428Z",
     "iopub.status.busy": "2024-12-11T10:50:31.920119Z",
     "iopub.status.idle": "2024-12-11T10:55:34.492923Z",
     "shell.execute_reply": "2024-12-11T10:55:34.493413Z",
     "shell.execute_reply.started": "2024-12-09T16:31:31.961395Z"
    },
    "papermill": {
     "duration": 302.66165,
     "end_time": "2024-12-11T10:55:34.493591",
     "exception": false,
     "start_time": "2024-12-11T10:50:31.831941",
     "status": "completed"
    },
    "tags": []
   },
   "outputs": [
    {
     "name": "stdout",
     "output_type": "stream",
     "text": [
      "515738\n",
      "Standard\n",
      "Superior\n",
      "Deluxe\n",
      "Classic\n",
      "Single\n",
      "Executive\n",
      "Club\n",
      "Queen\n",
      "King\n",
      "Premier\n",
      "Suite\n",
      "Triple\n",
      "Double\n",
      "others\n"
     ]
    }
   ],
   "source": [
    "# из словаря rooms_dict, в котором key - это будущие признаки, а value - списки соответствующих тегов\n",
    "# создаем новые признаки по именам ключей\n",
    "#\n",
    "#\n",
    "ii=0\n",
    "len_tab_str = len(couple_list) # узнаем количество строк в твблице\n",
    "temp_list_7 = []\n",
    "while ii<=515737:\n",
    "   temp_list_7.append(0)\n",
    "   ii = ii + 1\n",
    "print(len(temp_list_7))\n",
    "temp_list_7_base = temp_list_7.copy()\n",
    "#\n",
    "for key_7 in rooms_dict:\n",
    "    for str_7 in rooms_dict[key_7]:\n",
    "        for num_guest in tags_dict:\n",
    "            if str_7 in tags_dict[num_guest]:\n",
    "                temp_list_7[num_guest] = 1\n",
    "    if key_7 == 'Standard':\n",
    "          data['Standard_room'] = temp_list_7\n",
    "          temp_list_7.clear()\n",
    "          temp_list_7 = temp_list_7_base.copy()\n",
    "          print(key_7)\n",
    "#  \n",
    "    if key_7 == 'Superior':\n",
    "          data['Superior_room'] = temp_list_7\n",
    "          temp_list_7.clear()\n",
    "          temp_list_7 = temp_list_7_base.copy()\n",
    "          print(key_7)\n",
    "\n",
    "# \n",
    "    if key_7 == 'Deluxe':\n",
    "          data['Deluxe_room'] = temp_list_7\n",
    "          temp_list_7.clear()\n",
    "          temp_list_7 = temp_list_7_base.copy()\n",
    "          print(key_7)\n",
    "#\n",
    "    if key_7 == 'Classic':\n",
    "          data['Classic_room'] = temp_list_7\n",
    "          temp_list_7.clear()\n",
    "          temp_list_7 = temp_list_7_base.copy()\n",
    "          print(key_7)\n",
    "#\n",
    "    if key_7 == 'Single':\n",
    "          data['Single_room'] = temp_list_7\n",
    "          temp_list_7.clear()\n",
    "          temp_list_7 = temp_list_7_base.copy()\n",
    "          print(key_7)\n",
    "#\n",
    "    if key_7 == 'Executive':\n",
    "          data['Executive_room'] = temp_list_7\n",
    "          temp_list_7.clear()\n",
    "          temp_list_7 = temp_list_7_base.copy()\n",
    "          print(key_7)\n",
    "#\n",
    "    if key_7 == 'Club':\n",
    "          data['Club_room'] = temp_list_7\n",
    "          temp_list_7.clear()\n",
    "          temp_list_7 = temp_list_7_base.copy()\n",
    "          print(key_7)\n",
    "#\n",
    "    if key_7 == 'Queen':\n",
    "          data['Queen_room'] = temp_list_7\n",
    "          temp_list_7.clear()\n",
    "          temp_list_7 = temp_list_7_base.copy()\n",
    "          print(key_7)\n",
    "#\n",
    "    if key_7 == 'King':\n",
    "          data['King_room'] = temp_list_7\n",
    "          temp_list_7.clear()\n",
    "          temp_list_7 = temp_list_7_base.copy()\n",
    "          print(key_7)\n",
    "#\n",
    "    if key_7 == 'Premier':\n",
    "          data['Premier_room'] = temp_list_7\n",
    "          temp_list_7.clear()\n",
    "          temp_list_7 = temp_list_7_base.copy()\n",
    "          print(key_7)\n",
    "#\n",
    "    if key_7 == 'Suite':\n",
    "          data['Suite_room'] = temp_list_7\n",
    "          temp_list_7.clear()\n",
    "          temp_list_7 = temp_list_7_base.copy()\n",
    "          print(key_7)\n",
    "#\n",
    "    if key_7 == 'Triple':\n",
    "          data['Triple_room'] = temp_list_7\n",
    "          temp_list_7.clear()\n",
    "          temp_list_7 = temp_list_7_base.copy()\n",
    "          print(key_7)\n",
    "#\n",
    "    if key_7 == 'Double':\n",
    "          data['Double_room'] = temp_list_7\n",
    "          temp_list_7.clear()\n",
    "          temp_list_7 = temp_list_7_base.copy()\n",
    "          print(key_7)\n",
    "#\n",
    "    if key_7 == 'others':\n",
    "          data['others_room'] = temp_list_7\n",
    "          temp_list_7.clear()\n",
    "          temp_list_7 = temp_list_7_base.copy()\n",
    "          print(key_7)\n",
    "#"
   ]
  },
  {
   "cell_type": "code",
   "execution_count": 23,
   "id": "7b13d7d0",
   "metadata": {
    "execution": {
     "iopub.execute_input": "2024-12-11T10:55:34.588466Z",
     "iopub.status.busy": "2024-12-11T10:55:34.587923Z",
     "iopub.status.idle": "2024-12-11T10:55:35.270831Z",
     "shell.execute_reply": "2024-12-11T10:55:35.271167Z",
     "shell.execute_reply.started": "2024-12-09T16:36:33.330244Z"
    },
    "papermill": {
     "duration": 0.733278,
     "end_time": "2024-12-11T10:55:35.271336",
     "exception": false,
     "start_time": "2024-12-11T10:55:34.538058",
     "status": "completed"
    },
    "tags": []
   },
   "outputs": [
    {
     "name": "stdout",
     "output_type": "stream",
     "text": [
      "[8.177239347164113, 8.545186044710876, 8.473425013182817, 8.595181213017948, 8.011911220715351, 8.373695531501895, 8.414547275067916, 8.502716805382116, 8.662795636992483, 8.935364238410635, 8.558462732919585, 8.226497252747263, 8.386410730333747, 8.378470649712847]\n"
     ]
    },
    {
     "data": {
      "image/png": "[encoded data removed]",
      "text/plain": [
       "<Figure size 1080x360 with 1 Axes>"
      ]
     },
     "metadata": {
      "needs_background": "light"
     },
     "output_type": "display_data"
    }
   ],
   "source": [
    "# график зависимости средней оценки клиентом отеля от группы номеров отеля.\n",
    "score_mean = []\n",
    "room_type = ['Standard_room', 'Superior_room','Deluxe_room','Classic_room','Single_room',\\\n",
    "             'Executive_room','Club_room',    'Queen_room', 'King_room',   'Premier_room',\\\n",
    "             'Suite_room',    'Triple_room',  'Double_room','others_room']\n",
    "room_type_1 = ['Standard','Superior','Deluxe','Classic','Single','Executive','Club','Queen',\\\n",
    "               'King',    'Premier', 'Suite', 'Triple', 'Double','others']\n",
    "#\n",
    "for i_1, value_1 in enumerate(room_type):\n",
    "      temp_1 = data[(data[value_1]==1) & (data['sample']==1)].reviewer_score.mean()\n",
    "      score_mean.append(temp_1)\n",
    "print(score_mean)\n",
    "# bar диаграмма (оценка от типа комнаты)\n",
    "#\n",
    "plt.figure(figsize=(15,5))\n",
    "plt.bar(room_type_1, score_mean)\n",
    "plt.title(\"Зависимость оценки клиента от типа комнаты\")\n",
    "plt.ylabel(\"оценка \")\n",
    "plt.xlabel(\"тип комнаты \")\n",
    "plt.show()\n",
    "#"
   ]
  },
  {
   "cell_type": "markdown",
   "id": "33ea8d24",
   "metadata": {
    "papermill": {
     "duration": 0.044707,
     "end_time": "2024-12-11T10:55:35.361751",
     "exception": false,
     "start_time": "2024-12-11T10:55:35.317044",
     "status": "completed"
    },
    "tags": []
   },
   "source": [
    "С виду довольно бессмыссленное разделение получилось, но оставим как есть до момента оценки значимости."
   ]
  },
  {
   "cell_type": "markdown",
   "id": "8bde93c6",
   "metadata": {
    "papermill": {
     "duration": 0.046756,
     "end_time": "2024-12-11T10:55:35.453996",
     "exception": false,
     "start_time": "2024-12-11T10:55:35.407240",
     "status": "completed"
    },
    "tags": []
   },
   "source": [
    "9. Выделим признаки из названий отелей  'hotel_name'"
   ]
  },
  {
   "cell_type": "code",
   "execution_count": 24,
   "id": "15a977f3",
   "metadata": {
    "execution": {
     "iopub.execute_input": "2024-12-11T10:55:35.565809Z",
     "iopub.status.busy": "2024-12-11T10:55:35.565095Z",
     "iopub.status.idle": "2024-12-11T10:55:42.065772Z",
     "shell.execute_reply": "2024-12-11T10:55:42.066140Z",
     "shell.execute_reply.started": "2024-12-09T16:36:34.038211Z"
    },
    "papermill": {
     "duration": 6.567102,
     "end_time": "2024-12-11T10:55:42.066303",
     "exception": false,
     "start_time": "2024-12-11T10:55:35.499201",
     "status": "completed"
    },
    "tags": []
   },
   "outputs": [
    {
     "name": "stdout",
     "output_type": "stream",
     "text": [
      "Дублирование названия отеля:\n"
     ]
    },
    {
     "data": {
      "text/plain": [
       "hotel_name    hotel_address                                             \n",
       "Hotel Regina  Bergara 2 4 Eixample 08002 Barcelona Spain                    590\n",
       "              Rooseveltplatz 15 09 Alsergrund 1090 Vienna Austria           284\n",
       "              Via Cesare Correnti 13 Milan City Center 20123 Milan Italy     60\n",
       "dtype: int64"
      ]
     },
     "metadata": {},
     "output_type": "display_data"
    },
    {
     "name": "stdout",
     "output_type": "stream",
     "text": [
      "\n",
      "роверим полученные изменения:\n"
     ]
    },
    {
     "data": {
      "text/plain": [
       "Hotel Regina Barcelona    590\n",
       "Hotel Regina Vienna       284\n",
       "Hotel Regina Milan         60\n",
       "Name: hotel_name, dtype: int64"
      ]
     },
     "metadata": {},
     "output_type": "display_data"
    }
   ],
   "source": [
    "# исследуем данные о названии на наличие дубликатов (разных отелей с одинаковым названием):\n",
    "pivot_n = data[['hotel_address', 'hotel_name']].groupby(\n",
    "    by='hotel_name'\n",
    ").nunique()  # группируем отели по названиям с возможными разными адресами\n",
    "#\n",
    "# сводим в список индексы отелей с одним названием и с более чем 1 адресом\n",
    "name_rep = pivot_n[pivot_n['hotel_address'] != 1].index.to_list()\n",
    "mask = data['hotel_name'].isin(name_rep) # фильтр для дубликатов отелей по списку индексов\n",
    "addresses_rep = data[mask][['hotel_name', 'hotel_address']].value_counts() # частота встречаемости дубликатов\n",
    "#\n",
    "print('Дублирование названия отеля:')\n",
    "display(addresses_rep)\n",
    "#\n",
    "# чтобы различать эти отели при анализе - добавим в название город:\n",
    "data['hotel_name'] = data.apply(\n",
    "    lambda row: (row['hotel_name'] + ' ' + row['hotel_address'].split()[-2])\n",
    "    if (row['hotel_name'] in name_rep)\n",
    "    else row['hotel_name'], axis=1)\n",
    "\n",
    "print('\\nроверим полученные изменения:')\n",
    "mask = data['hotel_name'].str.contains(name_rep[0])\n",
    "display(data[mask]['hotel_name'].value_counts())"
   ]
  },
  {
   "cell_type": "code",
   "execution_count": 25,
   "id": "1e36456e",
   "metadata": {
    "execution": {
     "iopub.execute_input": "2024-12-11T10:55:42.179827Z",
     "iopub.status.busy": "2024-12-11T10:55:42.179266Z",
     "iopub.status.idle": "2024-12-11T10:55:42.206200Z",
     "shell.execute_reply": "2024-12-11T10:55:42.205749Z",
     "shell.execute_reply.started": "2024-12-09T16:36:40.358492Z"
    },
    "papermill": {
     "duration": 0.093164,
     "end_time": "2024-12-11T10:55:42.206352",
     "exception": false,
     "start_time": "2024-12-11T10:55:42.113188",
     "status": "completed"
    },
    "tags": []
   },
   "outputs": [
    {
     "name": "stdout",
     "output_type": "stream",
     "text": [
      "1494\n"
     ]
    }
   ],
   "source": [
    "# всего количество уникальных отелей\n",
    "#\n",
    "print(data['hotel_name'].nunique()) # колич. уникальных имен отелей"
   ]
  },
  {
   "cell_type": "markdown",
   "id": "8b8e6319",
   "metadata": {
    "papermill": {
     "duration": 0.04551,
     "end_time": "2024-12-11T10:55:42.299166",
     "exception": false,
     "start_time": "2024-12-11T10:55:42.253656",
     "status": "completed"
    },
    "tags": []
   },
   "source": [
    "Всего отелей 1494, надо существенно уменьшить количество значимых отелей для анализа.\n",
    "Используем только те, о которых много отзывов и высокая оценка.\n",
    "  Выделим топ лучших по рейтингу (>9), с порогом в 100 отзывов:"
   ]
  },
  {
   "cell_type": "code",
   "execution_count": 26,
   "id": "1f39c718",
   "metadata": {
    "execution": {
     "iopub.execute_input": "2024-12-11T10:55:42.404605Z",
     "iopub.status.busy": "2024-12-11T10:55:42.404051Z",
     "iopub.status.idle": "2024-12-11T10:55:42.941716Z",
     "shell.execute_reply": "2024-12-11T10:55:42.941190Z",
     "shell.execute_reply.started": "2024-12-09T16:36:40.405757Z"
    },
    "papermill": {
     "duration": 0.596884,
     "end_time": "2024-12-11T10:55:42.941851",
     "exception": false,
     "start_time": "2024-12-11T10:55:42.344967",
     "status": "completed"
    },
    "tags": []
   },
   "outputs": [
    {
     "name": "stdout",
     "output_type": "stream",
     "text": [
      "Лучшие по отзывам отели, имеющие минимум 100 отзывов:\n"
     ]
    },
    {
     "data": {
      "text/html": [
       "<div>\n",
       "<style scoped>\n",
       "    .dataframe tbody tr th:only-of-type {\n",
       "        vertical-align: middle;\n",
       "    }\n",
       "\n",
       "    .dataframe tbody tr th {\n",
       "        vertical-align: top;\n",
       "    }\n",
       "\n",
       "    .dataframe thead th {\n",
       "        text-align: right;\n",
       "    }\n",
       "</style>\n",
       "<table border=\"1\" class=\"dataframe\">\n",
       "  <thead>\n",
       "    <tr style=\"text-align: right;\">\n",
       "      <th></th>\n",
       "      <th>mean</th>\n",
       "      <th>count</th>\n",
       "    </tr>\n",
       "    <tr>\n",
       "      <th>hotel_name</th>\n",
       "      <th></th>\n",
       "      <th></th>\n",
       "    </tr>\n",
       "  </thead>\n",
       "  <tbody>\n",
       "    <tr>\n",
       "      <th>41</th>\n",
       "      <td>9.6</td>\n",
       "      <td>103</td>\n",
       "    </tr>\n",
       "    <tr>\n",
       "      <th>Acad mie H tel Saint Germain</th>\n",
       "      <td>9.0</td>\n",
       "      <td>255</td>\n",
       "    </tr>\n",
       "    <tr>\n",
       "      <th>Alma Barcelona GL</th>\n",
       "      <td>9.2</td>\n",
       "      <td>179</td>\n",
       "    </tr>\n",
       "    <tr>\n",
       "      <th>Amba Hotel Charing Cross</th>\n",
       "      <td>9.3</td>\n",
       "      <td>785</td>\n",
       "    </tr>\n",
       "    <tr>\n",
       "      <th>Ambassade Hotel</th>\n",
       "      <td>9.3</td>\n",
       "      <td>551</td>\n",
       "    </tr>\n",
       "    <tr>\n",
       "      <th>...</th>\n",
       "      <td>...</td>\n",
       "      <td>...</td>\n",
       "    </tr>\n",
       "    <tr>\n",
       "      <th>Waldorf Astoria Amsterdam</th>\n",
       "      <td>9.5</td>\n",
       "      <td>142</td>\n",
       "    </tr>\n",
       "    <tr>\n",
       "      <th>art otel Amsterdam</th>\n",
       "      <td>9.0</td>\n",
       "      <td>790</td>\n",
       "    </tr>\n",
       "    <tr>\n",
       "      <th>citizenM London Bankside</th>\n",
       "      <td>9.1</td>\n",
       "      <td>1517</td>\n",
       "    </tr>\n",
       "    <tr>\n",
       "      <th>citizenM London Shoreditch</th>\n",
       "      <td>9.1</td>\n",
       "      <td>838</td>\n",
       "    </tr>\n",
       "    <tr>\n",
       "      <th>citizenM Tower of London</th>\n",
       "      <td>9.1</td>\n",
       "      <td>1683</td>\n",
       "    </tr>\n",
       "  </tbody>\n",
       "</table>\n",
       "<p>205 rows × 2 columns</p>\n",
       "</div>"
      ],
      "text/plain": [
       "                              mean  count\n",
       "hotel_name                               \n",
       "41                             9.6    103\n",
       "Acad mie H tel Saint Germain   9.0    255\n",
       "Alma Barcelona GL              9.2    179\n",
       "Amba Hotel Charing Cross       9.3    785\n",
       "Ambassade Hotel                9.3    551\n",
       "...                            ...    ...\n",
       "Waldorf Astoria Amsterdam      9.5    142\n",
       "art otel Amsterdam             9.0    790\n",
       "citizenM London Bankside       9.1   1517\n",
       "citizenM London Shoreditch     9.1    838\n",
       "citizenM Tower of London       9.1   1683\n",
       "\n",
       "[205 rows x 2 columns]"
      ]
     },
     "metadata": {},
     "output_type": "display_data"
    }
   ],
   "source": [
    "# выделим топ лучших по рейтингу (>9), с порогом в 100 отзывов:\n",
    "hotels_names = data.groupby('hotel_name')['average_score'].agg(\n",
    "    ['mean', 'count']) # средняя оценка и количество оценок( равное количеству отзывов)\n",
    "#\n",
    "mask = (hotels_names['mean'] >= 9.0) & (hotels_names['count'] >= 100)\n",
    "hotels_top = hotels_names[mask]\n",
    "#\n",
    "print('Лучшие по отзывам отели, имеющие минимум 100 отзывов:')\n",
    "#\n",
    "display(hotels_top)\n",
    "#\n",
    "data['hotel_top'] = data['hotel_name'].apply(\n",
    "    lambda x: x if x in hotels_top.index else 'other') # новый признак с топовыми отелями и other\n",
    "#\n",
    "# применим порядковое кодирование:\n",
    "ord_enc = OrdinalEncoder()\n",
    "# Кодирование признака\n",
    "data['hotel_top_ord'] = ord_enc.fit_transform(data[['hotel_top']])"
   ]
  },
  {
   "cell_type": "code",
   "execution_count": 27,
   "id": "5ce38250",
   "metadata": {
    "execution": {
     "iopub.execute_input": "2024-12-11T10:55:43.039183Z",
     "iopub.status.busy": "2024-12-11T10:55:43.038733Z",
     "iopub.status.idle": "2024-12-11T10:55:43.041371Z",
     "shell.execute_reply": "2024-12-11T10:55:43.040966Z",
     "shell.execute_reply.started": "2024-12-09T16:36:40.958552Z"
    },
    "papermill": {
     "duration": 0.052387,
     "end_time": "2024-12-11T10:55:43.041490",
     "exception": false,
     "start_time": "2024-12-11T10:55:42.989103",
     "status": "completed"
    },
    "tags": []
   },
   "outputs": [],
   "source": [
    "#data.info(verbose=True, null_counts=True)"
   ]
  },
  {
   "cell_type": "markdown",
   "id": "a4deadd6",
   "metadata": {
    "papermill": {
     "duration": 0.046041,
     "end_time": "2024-12-11T10:55:43.133926",
     "exception": false,
     "start_time": "2024-12-11T10:55:43.087885",
     "status": "completed"
    },
    "tags": []
   },
   "source": [
    "# Нормализация признаков"
   ]
  },
  {
   "cell_type": "code",
   "execution_count": 28,
   "id": "1b3830e6",
   "metadata": {
    "execution": {
     "iopub.execute_input": "2024-12-11T10:55:43.231627Z",
     "iopub.status.busy": "2024-12-11T10:55:43.231061Z",
     "iopub.status.idle": "2024-12-11T10:55:43.233475Z",
     "shell.execute_reply": "2024-12-11T10:55:43.233068Z",
     "shell.execute_reply.started": "2024-12-09T16:36:40.966353Z"
    },
    "papermill": {
     "duration": 0.05345,
     "end_time": "2024-12-11T10:55:43.233579",
     "exception": false,
     "start_time": "2024-12-11T10:55:43.180129",
     "status": "completed"
    },
    "tags": []
   },
   "outputs": [],
   "source": [
    "#проведем нормализацию для числовых признаков\n",
    "num_cols = ['additional_number_of_scoring', 'average_score',\n",
    "       'review_total_negative_word_counts', 'total_number_of_reviews',\n",
    "       'review_total_positive_word_counts',\n",
    "       'total_number_of_reviews_reviewer_has_given', 'lat',\n",
    "       'lng','days_since_review']"
   ]
  },
  {
   "cell_type": "code",
   "execution_count": 29,
   "id": "eafba746",
   "metadata": {
    "execution": {
     "iopub.execute_input": "2024-12-11T10:55:43.331355Z",
     "iopub.status.busy": "2024-12-11T10:55:43.330839Z",
     "iopub.status.idle": "2024-12-11T10:55:43.333045Z",
     "shell.execute_reply": "2024-12-11T10:55:43.332694Z",
     "shell.execute_reply.started": "2024-12-09T16:36:40.973914Z"
    },
    "papermill": {
     "duration": 0.053096,
     "end_time": "2024-12-11T10:55:43.333145",
     "exception": false,
     "start_time": "2024-12-11T10:55:43.280049",
     "status": "completed"
    },
    "tags": []
   },
   "outputs": [],
   "source": [
    "import scipy.stats as stats\n",
    "\n",
    "# задаём уровень значимости\n",
    "alpha = 0.05 \n",
    "\n",
    "# функция для принятия решения о нормальности\n",
    "def decision_normality(p):\n",
    "    print('p-value = {:.3f}'.format(p))\n",
    "    if p <= alpha:\n",
    "        print('p-значение меньше, чем заданный уровень значимости {:.2f}. Распределение отлично от нормального'.format(alpha))\n",
    "    else:\n",
    "        print('p-значение больше, чем заданный уровень значимости {:.2f}. Распределение является нормальным'.format(alpha))"
   ]
  },
  {
   "cell_type": "code",
   "execution_count": 30,
   "id": "27dbdfac",
   "metadata": {
    "execution": {
     "iopub.execute_input": "2024-12-11T10:55:43.430208Z",
     "iopub.status.busy": "2024-12-11T10:55:43.429749Z",
     "iopub.status.idle": "2024-12-11T10:55:43.682483Z",
     "shell.execute_reply": "2024-12-11T10:55:43.682060Z",
     "shell.execute_reply.started": "2024-12-09T16:36:40.984719Z"
    },
    "papermill": {
     "duration": 0.303177,
     "end_time": "2024-12-11T10:55:43.682605",
     "exception": false,
     "start_time": "2024-12-11T10:55:43.379428",
     "status": "completed"
    },
    "tags": []
   },
   "outputs": [
    {
     "name": "stdout",
     "output_type": "stream",
     "text": [
      "Признак additional_number_of_scoring\n",
      "p-value = 0.000\n",
      "p-значение меньше, чем заданный уровень значимости 0.05. Распределение отлично от нормального\n",
      "Признак average_score\n",
      "p-value = 0.000\n",
      "p-значение меньше, чем заданный уровень значимости 0.05. Распределение отлично от нормального\n",
      "Признак review_total_negative_word_counts\n",
      "p-value = 0.000\n",
      "p-значение меньше, чем заданный уровень значимости 0.05. Распределение отлично от нормального\n",
      "Признак total_number_of_reviews\n",
      "p-value = 0.000\n",
      "p-значение меньше, чем заданный уровень значимости 0.05. Распределение отлично от нормального\n",
      "Признак review_total_positive_word_counts\n",
      "p-value = 0.000\n",
      "p-значение меньше, чем заданный уровень значимости 0.05. Распределение отлично от нормального\n",
      "Признак total_number_of_reviews_reviewer_has_given\n",
      "p-value = 0.000\n",
      "p-значение меньше, чем заданный уровень значимости 0.05. Распределение отлично от нормального\n",
      "Признак lat\n",
      "p-value = 0.000\n",
      "p-значение меньше, чем заданный уровень значимости 0.05. Распределение отлично от нормального\n",
      "Признак lng\n"
     ]
    },
    {
     "name": "stderr",
     "output_type": "stream",
     "text": [
      "/opt/conda/lib/python3.7/site-packages/scipy/stats/morestats.py:1760: UserWarning: p-value may not be accurate for N > 5000.\n",
      "  warnings.warn(\"p-value may not be accurate for N > 5000.\")\n"
     ]
    },
    {
     "name": "stdout",
     "output_type": "stream",
     "text": [
      "p-value = 0.000\n",
      "p-значение меньше, чем заданный уровень значимости 0.05. Распределение отлично от нормального\n",
      "Признак days_since_review\n",
      "p-value = 0.000\n",
      "p-значение меньше, чем заданный уровень значимости 0.05. Распределение отлично от нормального\n"
     ]
    }
   ],
   "source": [
    "#проверим распределение числовых признаков на нормальность с помощью теста Шапиро — Уилка\n",
    "\n",
    "for col in num_cols:\n",
    "    print('Признак ' + col)\n",
    "    result = stats.shapiro(data[col])\n",
    "    decision_normality(result[1])"
   ]
  },
  {
   "cell_type": "code",
   "execution_count": 31,
   "id": "2554bb3b",
   "metadata": {
    "execution": {
     "iopub.execute_input": "2024-12-11T10:55:43.782652Z",
     "iopub.status.busy": "2024-12-11T10:55:43.782116Z",
     "iopub.status.idle": "2024-12-11T10:55:44.294232Z",
     "shell.execute_reply": "2024-12-11T10:55:44.293807Z",
     "shell.execute_reply.started": "2024-12-09T16:36:41.250345Z"
    },
    "papermill": {
     "duration": 0.563864,
     "end_time": "2024-12-11T10:55:44.294377",
     "exception": false,
     "start_time": "2024-12-11T10:55:43.730513",
     "status": "completed"
    },
    "tags": []
   },
   "outputs": [],
   "source": [
    "from sklearn import preprocessing\n",
    "\n",
    "# инициализируем нормализатор RobustScaler\n",
    "r_scaler = preprocessing.RobustScaler()\n",
    "# кодируем исходный датасет\n",
    "data[num_cols] = r_scaler.fit_transform(data[num_cols])"
   ]
  },
  {
   "cell_type": "markdown",
   "id": "9af714b8",
   "metadata": {
    "papermill": {
     "duration": 0.047204,
     "end_time": "2024-12-11T10:55:44.389414",
     "exception": false,
     "start_time": "2024-12-11T10:55:44.342210",
     "status": "completed"
    },
    "tags": []
   },
   "source": [
    "10. Исследования текста отзывов клиентов с помощью анализатора TextBlob"
   ]
  },
  {
   "cell_type": "code",
   "execution_count": 32,
   "id": "55c238a3",
   "metadata": {
    "execution": {
     "iopub.execute_input": "2024-12-11T10:55:44.496087Z",
     "iopub.status.busy": "2024-12-11T10:55:44.495130Z",
     "iopub.status.idle": "2024-12-11T11:00:37.430951Z",
     "shell.execute_reply": "2024-12-11T11:00:37.430497Z",
     "shell.execute_reply.started": "2024-12-09T16:36:41.766815Z"
    },
    "papermill": {
     "duration": 292.989745,
     "end_time": "2024-12-11T11:00:37.431086",
     "exception": false,
     "start_time": "2024-12-11T10:55:44.441341",
     "status": "completed"
    },
    "tags": []
   },
   "outputs": [],
   "source": [
    "#\n",
    "# меняем метки отсутствия частей отзыва:\n",
    "data['negative_review_temp'] = data['negative_review'].apply(\n",
    "    lambda x: x.replace('No Negative', 'Positive'))\n",
    "data['positive_review_temp'] = data['positive_review'].apply(\n",
    "    lambda x: x.replace('No Positive', 'Negative'))\n",
    "#\n",
    "def get_polarity(text):\n",
    "    \"\"\"Получение параметра полярности отзыва\"\"\"\n",
    "    blob = TextBlob(text)\n",
    "    return blob.sentiment_assessments.polarity\n",
    "#\n",
    "# применяем TextBlob к временным столбцам для положительных и отрицательных отзывов\n",
    "#\n",
    "data['positive_polarity'] = data['positive_review_temp'].apply(get_polarity)\n",
    "data['negative_polarity'] = data['negative_review_temp'].apply(get_polarity)"
   ]
  },
  {
   "cell_type": "code",
   "execution_count": 33,
   "id": "90e8e89d",
   "metadata": {
    "execution": {
     "iopub.execute_input": "2024-12-11T11:00:37.532069Z",
     "iopub.status.busy": "2024-12-11T11:00:37.531487Z",
     "iopub.status.idle": "2024-12-11T11:04:39.963925Z",
     "shell.execute_reply": "2024-12-11T11:04:39.963380Z",
     "shell.execute_reply.started": "2024-12-09T16:41:35.100792Z"
    },
    "papermill": {
     "duration": 242.485209,
     "end_time": "2024-12-11T11:04:39.964052",
     "exception": false,
     "start_time": "2024-12-11T11:00:37.478843",
     "status": "completed"
    },
    "tags": []
   },
   "outputs": [
    {
     "name": "stdout",
     "output_type": "stream",
     "text": [
      "Sentiment(classification='pos', p_pos=0.6252594845412645, p_neg=0.37474051545873566) для фразы \"everything was great\"\n"
     ]
    }
   ],
   "source": [
    "#\n",
    "tb = Blobber(analyzer=NaiveBayesAnalyzer())\n",
    "#\n",
    "text_example = 'everything was great'\n",
    "print(f'{tb(text_example).sentiment} для фразы \"{text_example}\"')\n",
    "#\n",
    "# так как позитивный и негативный компонент - взаимнообратные величины, образующие в сумме 1 - \n",
    "# можно ограничится только одним:\n",
    "#\n",
    "def get_blobber_sentiment(text):\n",
    "    \"\"\"Получение коэффициента позитивной оценки\"\"\"\n",
    "    blobber_sentiment = tb(text).sentiment\n",
    "    return blobber_sentiment[1]\n",
    "#\n",
    "data['positive_review_pos'] = data['positive_review_temp'].apply(get_blobber_sentiment)\n",
    "data['negative_review_pos'] = data['negative_review_temp'].apply(get_blobber_sentiment)"
   ]
  },
  {
   "cell_type": "code",
   "execution_count": 34,
   "id": "f1bbc8a1",
   "metadata": {
    "execution": {
     "iopub.execute_input": "2024-12-11T11:04:40.067717Z",
     "iopub.status.busy": "2024-12-11T11:04:40.067112Z",
     "iopub.status.idle": "2024-12-11T11:04:47.307921Z",
     "shell.execute_reply": "2024-12-11T11:04:47.308358Z",
     "shell.execute_reply.started": "2024-12-09T16:45:40.688586Z"
    },
    "papermill": {
     "duration": 7.294995,
     "end_time": "2024-12-11T11:04:47.308511",
     "exception": false,
     "start_time": "2024-12-11T11:04:40.013516",
     "status": "completed"
    },
    "tags": []
   },
   "outputs": [],
   "source": [
    "# добавим отзыву классификацию в зависимости от доли положительного компонента:\n",
    "data['positive_review_class'] = data['positive_review_pos'].apply(\n",
    "    lambda x: 1 if x >= 0.5 else 0)\n",
    "data['negative_review_class'] = data['negative_review_pos'].apply(\n",
    "    lambda x: 1 if x >= 0.5 else 0)\n",
    "#\n",
    "# добавляем параметр с классификацией отзыва:\n",
    "def get_class(positive_review_class, negative_review_class):\n",
    "    \"\"\"Классификация отзыва, в зависимости от классов обеих частей\"\"\"\n",
    "    if positive_review_class + negative_review_class == 2:\n",
    "        return 10.0\n",
    "    if positive_review_class == 1 and negative_review_class == 0:\n",
    "        return 7.5\n",
    "    if positive_review_class == 0 and negative_review_class == 1:\n",
    "        return 5.0\n",
    "    return 2.5\n",
    "#\n",
    "data['review_classification'] = data.apply(\n",
    "    lambda row: get_class(row['positive_review_class'], row['negative_review_class']), \n",
    "    axis=1)"
   ]
  },
  {
   "cell_type": "markdown",
   "id": "1a86b265",
   "metadata": {
    "papermill": {
     "duration": 0.047376,
     "end_time": "2024-12-11T11:04:47.404778",
     "exception": false,
     "start_time": "2024-12-11T11:04:47.357402",
     "status": "completed"
    },
    "tags": []
   },
   "source": [
    "# Отбор признаков"
   ]
  },
  {
   "cell_type": "code",
   "execution_count": 35,
   "id": "0c90d976",
   "metadata": {
    "execution": {
     "iopub.execute_input": "2024-12-11T11:04:47.504881Z",
     "iopub.status.busy": "2024-12-11T11:04:47.503602Z",
     "iopub.status.idle": "2024-12-11T11:04:47.758928Z",
     "shell.execute_reply": "2024-12-11T11:04:47.758457Z",
     "shell.execute_reply.started": "2024-12-09T16:45:47.991954Z"
    },
    "papermill": {
     "duration": 0.307052,
     "end_time": "2024-12-11T11:04:47.759048",
     "exception": false,
     "start_time": "2024-12-11T11:04:47.451996",
     "status": "completed"
    },
    "tags": []
   },
   "outputs": [],
   "source": [
    "# создаем дубликат базы для дальнейших манипуляций со столбцами (для обратимости экспериментов):\n",
    "data_copy = data.copy()"
   ]
  },
  {
   "cell_type": "markdown",
   "id": "eb4e42fe",
   "metadata": {
    "papermill": {
     "duration": 0.049445,
     "end_time": "2024-12-11T11:04:47.857192",
     "exception": false,
     "start_time": "2024-12-11T11:04:47.807747",
     "status": "completed"
    },
    "tags": []
   },
   "source": [
    "  Собераем отдельно признаки числовые (float) и категориальные (int):"
   ]
  },
  {
   "cell_type": "code",
   "execution_count": 36,
   "id": "20aa081e",
   "metadata": {
    "execution": {
     "iopub.execute_input": "2024-12-11T11:04:47.959803Z",
     "iopub.status.busy": "2024-12-11T11:04:47.959237Z",
     "iopub.status.idle": "2024-12-11T11:04:48.134009Z",
     "shell.execute_reply": "2024-12-11T11:04:48.134456Z",
     "shell.execute_reply.started": "2024-12-09T16:45:48.243476Z"
    },
    "papermill": {
     "duration": 0.229938,
     "end_time": "2024-12-11T11:04:48.134612",
     "exception": false,
     "start_time": "2024-12-11T11:04:47.904674",
     "status": "completed"
    },
    "tags": []
   },
   "outputs": [],
   "source": [
    "# убираем нечисловые признаки\n",
    "object_columns = [s for s in data.columns if data[s].dtypes == 'object']\n",
    "data.drop(object_columns, axis = 1, inplace=True)"
   ]
  },
  {
   "cell_type": "code",
   "execution_count": 37,
   "id": "fec77e66",
   "metadata": {
    "execution": {
     "iopub.execute_input": "2024-12-11T11:04:48.237933Z",
     "iopub.status.busy": "2024-12-11T11:04:48.237380Z",
     "iopub.status.idle": "2024-12-11T11:04:48.239139Z",
     "shell.execute_reply": "2024-12-11T11:04:48.239570Z",
     "shell.execute_reply.started": "2024-12-09T16:45:48.419291Z"
    },
    "papermill": {
     "duration": 0.056476,
     "end_time": "2024-12-11T11:04:48.239699",
     "exception": false,
     "start_time": "2024-12-11T11:04:48.183223",
     "status": "completed"
    },
    "tags": []
   },
   "outputs": [],
   "source": [
    "# числовые признаки\n",
    "#\n",
    "numb_feat = ['additional_number_of_scoring', 'average_score',\n",
    "             'review_total_negative_word_counts', 'total_number_of_reviews', 'review_total_positive_word_counts',\n",
    "             'total_number_of_reviews_reviewer_has_given', 'days_since_review', 'lat', 'lng', 'reviewer_score',\n",
    "             'positive_review_class', 'negative_review_class']\n",
    "#\n",
    "# категориальные признаки\n",
    "#\n",
    "cat_feat  = ['Austria', 'France', 'Italy', 'Netherlands', 'Spain', 'United Kingdom',\n",
    "             'reviewer_uk', 'reviewer_en', 'reviewer_n_est', 'reviewer_sng', 'reviewer_china', 'reviewer_resident',\n",
    "             'nation_100', 'hotel_top_ord', 'review_year', 'review_month', 'stayed_days', 'Leisure_trip', 'Business_trip', \n",
    "             'Couple', 'Solo_traveler', 'Group', 'Travelers with friends', 'Family_young_ch','Family_older_ch', \n",
    "             'Submit_mobile', 'Standard_room', 'Superior_room', 'Deluxe_room', 'Classic_room', 'Single_room',  \n",
    "             'Executive_room', 'Club_room', 'Queen_room', 'King_room', 'Premier_room', 'Triple_room', 'Double_room', \n",
    "             'others_room']"
   ]
  },
  {
   "cell_type": "code",
   "execution_count": 38,
   "id": "84c65bba",
   "metadata": {
    "execution": {
     "iopub.execute_input": "2024-12-11T11:04:48.363400Z",
     "iopub.status.busy": "2024-12-11T11:04:48.340833Z",
     "iopub.status.idle": "2024-12-11T11:04:49.114235Z",
     "shell.execute_reply": "2024-12-11T11:04:49.114639Z",
     "shell.execute_reply.started": "2024-12-09T16:45:48.425725Z"
    },
    "papermill": {
     "duration": 0.827214,
     "end_time": "2024-12-11T11:04:49.114781",
     "exception": false,
     "start_time": "2024-12-11T11:04:48.287567",
     "status": "completed"
    },
    "tags": []
   },
   "outputs": [
    {
     "data": {
      "image/png": "[encoded data removed]",
      "text/plain": [
       "<Figure size 1080x864 with 2 Axes>"
      ]
     },
     "metadata": {
      "needs_background": "light"
     },
     "output_type": "display_data"
    }
   ],
   "source": [
    "def show_corr_heatmap(columns_list, title, method):\n",
    "    \"\"\"Построения корреляционной диаграммы\"\"\"\n",
    "    fig_, ax_ = plt.subplots(figsize=(15, 12))\n",
    "    corr = data[columns_list].corr(method=method)\n",
    "    mask = np.triu(np.ones_like(corr, dtype=bool))\n",
    "    sns.heatmap(corr, \n",
    "                annot=True, \n",
    "                linewidths=0.1, \n",
    "                ax=ax_, \n",
    "                mask=mask, \n",
    "                cmap='viridis',\n",
    "                fmt='.1g')\n",
    "    ax_.set_title(title, fontsize=18)\n",
    "    plt.show()\n",
    "#\n",
    "#строим диаграмму для непрерывных признаков:\n",
    "show_corr_heatmap(numb_feat, 'Корреляция непрерывных признаков', method='pearson');"
   ]
  },
  {
   "cell_type": "markdown",
   "id": "41163253",
   "metadata": {
    "papermill": {
     "duration": 0.049647,
     "end_time": "2024-12-11T11:04:49.214922",
     "exception": false,
     "start_time": "2024-12-11T11:04:49.165275",
     "status": "completed"
    },
    "tags": []
   },
   "source": [
    "сильно коррелируют ( коэфф. корреляции 0.8) total_namber_of_reviews  и  additional_number_of scoring.  Удаляем один из них: additional_number_of scoring"
   ]
  },
  {
   "cell_type": "code",
   "execution_count": 39,
   "id": "bf781846",
   "metadata": {
    "execution": {
     "iopub.execute_input": "2024-12-11T11:04:49.386425Z",
     "iopub.status.busy": "2024-12-11T11:04:49.385859Z",
     "iopub.status.idle": "2024-12-11T11:04:54.108724Z",
     "shell.execute_reply": "2024-12-11T11:04:54.109091Z",
     "shell.execute_reply.started": "2024-12-09T16:45:49.273688Z"
    },
    "papermill": {
     "duration": 4.843712,
     "end_time": "2024-12-11T11:04:54.109242",
     "exception": false,
     "start_time": "2024-12-11T11:04:49.265530",
     "status": "completed"
    },
    "tags": []
   },
   "outputs": [
    {
     "data": {
      "image/png": "[encoded data removed]",
      "text/plain": [
       "<Figure size 1080x864 with 2 Axes>"
      ]
     },
     "metadata": {
      "needs_background": "light"
     },
     "output_type": "display_data"
    }
   ],
   "source": [
    "def show_corr_heatmap(columns_list, title, method):\n",
    "    \"\"\"Построения корреляционной диаграммы\"\"\"\n",
    "    fig_, ax_ = plt.subplots(figsize=(15, 12))\n",
    "    corr = data[columns_list].corr(method=method)\n",
    "    mask = np.triu(np.ones_like(corr, dtype=bool))\n",
    "    sns.heatmap(corr, \n",
    "                annot=True, \n",
    "                linewidths=0.1, \n",
    "                ax=ax_, \n",
    "                mask=mask, \n",
    "                cmap='viridis',\n",
    "                fmt='.1g')\n",
    "    ax_.set_title(title, fontsize=18)\n",
    "    plt.show()\n",
    "#\n",
    "#строим диаграмму для непрерывных признаков:\n",
    "show_corr_heatmap(cat_feat, 'Корреляция котегориальных признаков', method='pearson');"
   ]
  },
  {
   "cell_type": "markdown",
   "id": "5b50e9fe",
   "metadata": {
    "papermill": {
     "duration": 0.059739,
     "end_time": "2024-12-11T11:04:54.228482",
     "exception": false,
     "start_time": "2024-12-11T11:04:54.168743",
     "status": "completed"
    },
    "tags": []
   },
   "source": [
    "Наблюдаем логичные закономерности:\n",
    "1. reviewer_resident сильно (0.7) коррелирует с United_Kingdom и с reviewer_uk. Это потому, что\n",
    "   подавляющее большинство путешественников и отелей из UK.\n",
    "   Удаляем с чистой совестью reviewer_resident.\n",
    "2. Также nation_100 ( первые 100 национальностей) коррелирует с reviewer_uk по той же пречине.\n",
    "   Удаляем nation_100.\n",
    "3. Business_trip и Leisure_trip очень строго антикоррелируют (0.9) , что вполне понятно.\n",
    "   Удаляем Business_trip.\n",
    "4. Solo_traveler заметно коррелирует (0.5) c Business_trip, это тоже логично, в командировки часто\n",
    "   ездят по одному (Business_trip уже удалили)\n",
    "5. И очень радостно, что Solo_traveler коррелирует заметно (0.4) с Single_room, так как те, кто\n",
    "   alone занимают чаще всего одну комнату."
   ]
  },
  {
   "cell_type": "code",
   "execution_count": 40,
   "id": "f7259773",
   "metadata": {
    "execution": {
     "iopub.execute_input": "2024-12-11T11:04:54.417204Z",
     "iopub.status.busy": "2024-12-11T11:04:54.378159Z",
     "iopub.status.idle": "2024-12-11T11:04:54.421509Z",
     "shell.execute_reply": "2024-12-11T11:04:54.420951Z",
     "shell.execute_reply.started": "2024-12-09T16:45:54.078908Z"
    },
    "papermill": {
     "duration": 0.134326,
     "end_time": "2024-12-11T11:04:54.421630",
     "exception": false,
     "start_time": "2024-12-11T11:04:54.287304",
     "status": "completed"
    },
    "tags": []
   },
   "outputs": [],
   "source": [
    "# производим удаление\n",
    "data.drop(['reviewer_resident', 'nation_100', 'Business_trip', 'additional_number_of_scoring'], axis=1, inplace=True)\n"
   ]
  },
  {
   "cell_type": "code",
   "execution_count": 41,
   "id": "a1bb130b",
   "metadata": {
    "execution": {
     "iopub.execute_input": "2024-12-11T11:04:54.545080Z",
     "iopub.status.busy": "2024-12-11T11:04:54.544248Z",
     "iopub.status.idle": "2024-12-11T11:04:54.600726Z",
     "shell.execute_reply": "2024-12-11T11:04:54.601136Z",
     "shell.execute_reply.started": "2024-12-09T16:45:54.154664Z"
    },
    "papermill": {
     "duration": 0.119943,
     "end_time": "2024-12-11T11:04:54.601302",
     "exception": false,
     "start_time": "2024-12-11T11:04:54.481359",
     "status": "completed"
    },
    "tags": []
   },
   "outputs": [
    {
     "name": "stdout",
     "output_type": "stream",
     "text": [
      "<class 'pandas.core.frame.DataFrame'>\n",
      "RangeIndex: 515738 entries, 0 to 515737\n",
      "Data columns (total 54 columns):\n",
      " #   Column                                      Non-Null Count   Dtype  \n",
      "---  ------                                      --------------   -----  \n",
      " 0   average_score                               515738 non-null  float64\n",
      " 1   review_total_negative_word_counts           515738 non-null  float64\n",
      " 2   total_number_of_reviews                     515738 non-null  float64\n",
      " 3   review_total_positive_word_counts           515738 non-null  float64\n",
      " 4   total_number_of_reviews_reviewer_has_given  515738 non-null  float64\n",
      " 5   days_since_review                           515738 non-null  float64\n",
      " 6   lat                                         515738 non-null  float64\n",
      " 7   lng                                         515738 non-null  float64\n",
      " 8   sample                                      515738 non-null  int64  \n",
      " 9   reviewer_score                              515738 non-null  float64\n",
      " 10  Austria                                     515738 non-null  float64\n",
      " 11  France                                      515738 non-null  float64\n",
      " 12  Italy                                       515738 non-null  float64\n",
      " 13  Netherlands                                 515738 non-null  float64\n",
      " 14  Spain                                       515738 non-null  float64\n",
      " 15  United Kingdom                              515738 non-null  float64\n",
      " 16  reviewer_uk                                 515738 non-null  int64  \n",
      " 17  reviewer_en                                 515738 non-null  int64  \n",
      " 18  reviewer_n_est                              515738 non-null  int64  \n",
      " 19  reviewer_sng                                515738 non-null  int64  \n",
      " 20  reviewer_china                              515738 non-null  int64  \n",
      " 21  review_year                                 515738 non-null  int64  \n",
      " 22  review_month                                515738 non-null  int64  \n",
      " 23  stayed_days                                 515738 non-null  int64  \n",
      " 24  Leisure_trip                                515738 non-null  int64  \n",
      " 25  Couple                                      515738 non-null  int64  \n",
      " 26  Solo_traveler                               515738 non-null  int64  \n",
      " 27  Group                                       515738 non-null  int64  \n",
      " 28  Travelers with friends                      515738 non-null  int64  \n",
      " 29  Family_young_ch                             515738 non-null  int64  \n",
      " 30  Family_older_ch                             515738 non-null  int64  \n",
      " 31  Submit_mobile                               515738 non-null  int64  \n",
      " 32  Standard_room                               515738 non-null  int64  \n",
      " 33  Superior_room                               515738 non-null  int64  \n",
      " 34  Deluxe_room                                 515738 non-null  int64  \n",
      " 35  Classic_room                                515738 non-null  int64  \n",
      " 36  Single_room                                 515738 non-null  int64  \n",
      " 37  Executive_room                              515738 non-null  int64  \n",
      " 38  Club_room                                   515738 non-null  int64  \n",
      " 39  Queen_room                                  515738 non-null  int64  \n",
      " 40  King_room                                   515738 non-null  int64  \n",
      " 41  Premier_room                                515738 non-null  int64  \n",
      " 42  Suite_room                                  515738 non-null  int64  \n",
      " 43  Triple_room                                 515738 non-null  int64  \n",
      " 44  Double_room                                 515738 non-null  int64  \n",
      " 45  others_room                                 515738 non-null  int64  \n",
      " 46  hotel_top_ord                               515738 non-null  float64\n",
      " 47  positive_polarity                           515738 non-null  float64\n",
      " 48  negative_polarity                           515738 non-null  float64\n",
      " 49  positive_review_pos                         515738 non-null  float64\n",
      " 50  negative_review_pos                         515738 non-null  float64\n",
      " 51  positive_review_class                       515738 non-null  int64  \n",
      " 52  negative_review_class                       515738 non-null  int64  \n",
      " 53  review_classification                       515738 non-null  float64\n",
      "dtypes: float64(21), int64(33)\n",
      "memory usage: 212.5 MB\n"
     ]
    },
    {
     "name": "stderr",
     "output_type": "stream",
     "text": [
      "/opt/conda/lib/python3.7/site-packages/ipykernel_launcher.py:1: FutureWarning: null_counts is deprecated. Use show_counts instead\n",
      "  \"\"\"Entry point for launching an IPython kernel.\n"
     ]
    }
   ],
   "source": [
    "data.info(verbose=True, null_counts=True)"
   ]
  },
  {
   "cell_type": "markdown",
   "id": "0abdba17",
   "metadata": {
    "papermill": {
     "duration": 0.059919,
     "end_time": "2024-12-11T11:04:54.721653",
     "exception": false,
     "start_time": "2024-12-11T11:04:54.661734",
     "status": "completed"
    },
    "tags": []
   },
   "source": [
    "# Производим оценку признаков по значимости"
   ]
  },
  {
   "cell_type": "code",
   "execution_count": 42,
   "id": "48006e2b",
   "metadata": {
    "execution": {
     "iopub.execute_input": "2024-12-11T11:04:54.847539Z",
     "iopub.status.busy": "2024-12-11T11:04:54.847038Z",
     "iopub.status.idle": "2024-12-11T11:04:56.519669Z",
     "shell.execute_reply": "2024-12-11T11:04:56.520063Z",
     "shell.execute_reply.started": "2024-12-09T16:45:54.220215Z"
    },
    "papermill": {
     "duration": 1.738222,
     "end_time": "2024-12-11T11:04:56.520217",
     "exception": false,
     "start_time": "2024-12-11T11:04:54.781995",
     "status": "completed"
    },
    "tags": []
   },
   "outputs": [
    {
     "data": {
      "image/png": "[encoded data removed]",
      "text/plain": [
       "<Figure size 1080x1440 with 1 Axes>"
      ]
     },
     "metadata": {
      "needs_background": "light"
     },
     "output_type": "display_data"
    }
   ],
   "source": [
    "#\n",
    "y = data.query('sample == 1').drop(['sample'], axis=1).reviewer_score.values\n",
    "X = data.query('sample == 1').drop(['sample', 'reviewer_score'], axis=1)\n",
    "\n",
    "\n",
    "# визуализируем результат анализа значимости:\n",
    "imp_num = pd.Series(f_classif(X[X.columns], y)[0], index = X.columns)\n",
    "imp_num.sort_values(inplace = True)\n",
    "\n",
    "fig5, ax5 = plt.subplots(figsize=(15, 20))\n",
    "imp_num.plot(kind = 'barh', color='green');"
   ]
  },
  {
   "cell_type": "markdown",
   "id": "2a6a18fe",
   "metadata": {
    "papermill": {
     "duration": 0.062346,
     "end_time": "2024-12-11T11:04:56.645593",
     "exception": false,
     "start_time": "2024-12-11T11:04:56.583247",
     "status": "completed"
    },
    "tags": []
   },
   "source": [
    "удаляем еще 5 признаков: reviewer_china, Travelers_with_friends, other_room, Executive_room, Club_room"
   ]
  },
  {
   "cell_type": "code",
   "execution_count": 43,
   "id": "0b08ebae",
   "metadata": {
    "execution": {
     "iopub.execute_input": "2024-12-11T11:04:56.844623Z",
     "iopub.status.busy": "2024-12-11T11:04:56.844014Z",
     "iopub.status.idle": "2024-12-11T11:04:56.846594Z",
     "shell.execute_reply": "2024-12-11T11:04:56.846145Z",
     "shell.execute_reply.started": "2024-12-09T16:45:55.909361Z"
    },
    "papermill": {
     "duration": 0.136002,
     "end_time": "2024-12-11T11:04:56.846726",
     "exception": false,
     "start_time": "2024-12-11T11:04:56.710724",
     "status": "completed"
    },
    "tags": []
   },
   "outputs": [],
   "source": [
    "# производим удаление\n",
    "data.drop(['reviewer_china', 'Travelers with friends', 'others_room', 'Executive_room','Club_room'], axis=1, inplace=True)\n"
   ]
  },
  {
   "cell_type": "code",
   "execution_count": 44,
   "id": "0825ddcf",
   "metadata": {
    "execution": {
     "iopub.execute_input": "2024-12-11T11:04:56.976813Z",
     "iopub.status.busy": "2024-12-11T11:04:56.976306Z",
     "iopub.status.idle": "2024-12-11T11:04:57.172230Z",
     "shell.execute_reply": "2024-12-11T11:04:57.171747Z",
     "shell.execute_reply.started": "2024-12-09T16:45:55.980098Z"
    },
    "papermill": {
     "duration": 0.261907,
     "end_time": "2024-12-11T11:04:57.172379",
     "exception": false,
     "start_time": "2024-12-11T11:04:56.910472",
     "status": "completed"
    },
    "tags": []
   },
   "outputs": [],
   "source": [
    "# Теперь выделим тестовую часть\n",
    "train_data = data.query('sample == 1').drop(['sample'], axis=1)\n",
    "test_data = data.query('sample == 0').drop(['sample'], axis=1)\n",
    "\n",
    "y = train_data.reviewer_score.values            # наш таргет\n",
    "X = train_data.drop(['reviewer_score'], axis=1) # тренеровочные данные с удаленным столбцом рейтингов"
   ]
  },
  {
   "cell_type": "code",
   "execution_count": 45,
   "id": "f96d2455",
   "metadata": {
    "execution": {
     "iopub.execute_input": "2024-12-11T11:04:57.314646Z",
     "iopub.status.busy": "2024-12-11T11:04:57.313879Z",
     "iopub.status.idle": "2024-12-11T11:04:57.482299Z",
     "shell.execute_reply": "2024-12-11T11:04:57.481804Z",
     "shell.execute_reply.started": "2024-12-09T16:45:56.185829Z"
    },
    "papermill": {
     "duration": 0.243166,
     "end_time": "2024-12-11T11:04:57.482417",
     "exception": false,
     "start_time": "2024-12-11T11:04:57.239251",
     "status": "completed"
    },
    "tags": []
   },
   "outputs": [],
   "source": [
    "# Воспользуемся специальной функцие train_test_split для разбивки тестовых данных\n",
    "# выделим 20% данных на валидацию (параметр test_size)\n",
    "X_train, X_test, y_train, y_test = train_test_split(X, y, test_size=0.2, random_state=RANDOM_SEED)"
   ]
  },
  {
   "cell_type": "code",
   "execution_count": 46,
   "id": "7b26cba7",
   "metadata": {
    "execution": {
     "iopub.execute_input": "2024-12-11T11:04:57.610029Z",
     "iopub.status.busy": "2024-12-11T11:04:57.609469Z",
     "iopub.status.idle": "2024-12-11T11:04:57.612704Z",
     "shell.execute_reply": "2024-12-11T11:04:57.612345Z",
     "shell.execute_reply.started": "2024-12-09T16:45:56.354742Z"
    },
    "papermill": {
     "duration": 0.069011,
     "end_time": "2024-12-11T11:04:57.612808",
     "exception": false,
     "start_time": "2024-12-11T11:04:57.543797",
     "status": "completed"
    },
    "tags": []
   },
   "outputs": [
    {
     "data": {
      "text/plain": [
       "((128935, 48), (386803, 48), (386803, 47), (309442, 47), (77361, 47))"
      ]
     },
     "execution_count": 46,
     "metadata": {},
     "output_type": "execute_result"
    }
   ],
   "source": [
    "# проверяем\n",
    "test_data.shape, train_data.shape, X.shape, X_train.shape, X_test.shape"
   ]
  },
  {
   "cell_type": "code",
   "execution_count": 47,
   "id": "26256c9f",
   "metadata": {
    "execution": {
     "iopub.execute_input": "2024-12-11T11:04:57.743058Z",
     "iopub.status.busy": "2024-12-11T11:04:57.742203Z",
     "iopub.status.idle": "2024-12-11T11:04:57.743950Z",
     "shell.execute_reply": "2024-12-11T11:04:57.744402Z",
     "shell.execute_reply.started": "2024-12-09T16:45:56.361130Z"
    },
    "papermill": {
     "duration": 0.069853,
     "end_time": "2024-12-11T11:04:57.744543",
     "exception": false,
     "start_time": "2024-12-11T11:04:57.674690",
     "status": "completed"
    },
    "tags": []
   },
   "outputs": [],
   "source": [
    "# Создаём модель\n",
    "model = RandomForestRegressor(n_estimators=100, verbose=1, n_jobs=-1, random_state=RANDOM_SEED)"
   ]
  },
  {
   "cell_type": "code",
   "execution_count": 48,
   "id": "7c30e79d",
   "metadata": {
    "execution": {
     "iopub.execute_input": "2024-12-11T11:04:57.875810Z",
     "iopub.status.busy": "2024-12-11T11:04:57.875232Z",
     "iopub.status.idle": "2024-12-11T11:08:03.714575Z",
     "shell.execute_reply": "2024-12-11T11:08:03.713968Z",
     "shell.execute_reply.started": "2024-12-09T16:45:56.370854Z"
    },
    "papermill": {
     "duration": 185.907649,
     "end_time": "2024-12-11T11:08:03.714731",
     "exception": false,
     "start_time": "2024-12-11T11:04:57.807082",
     "status": "completed"
    },
    "tags": []
   },
   "outputs": [
    {
     "name": "stderr",
     "output_type": "stream",
     "text": [
      "[Parallel(n_jobs=-1)]: Using backend ThreadingBackend with 4 concurrent workers.\n",
      "[Parallel(n_jobs=-1)]: Done  42 tasks      | elapsed:  1.4min\n",
      "[Parallel(n_jobs=-1)]: Done 100 out of 100 | elapsed:  3.1min finished\n",
      "[Parallel(n_jobs=4)]: Using backend ThreadingBackend with 4 concurrent workers.\n",
      "[Parallel(n_jobs=4)]: Done  42 tasks      | elapsed:    0.6s\n",
      "[Parallel(n_jobs=4)]: Done 100 out of 100 | elapsed:    1.3s finished\n"
     ]
    }
   ],
   "source": [
    "# Обучаем модель на тестовом наборе данных\n",
    "model.fit(X_train, y_train)\n",
    "\n",
    "# Используем обученную модель для предсказания рейтинга ресторанов в тестовой выборке.\n",
    "# Предсказанные значения записываем в переменную y_pred\n",
    "y_pred = model.predict(X_test)"
   ]
  },
  {
   "cell_type": "code",
   "execution_count": 49,
   "id": "8e96de0e",
   "metadata": {
    "execution": {
     "iopub.execute_input": "2024-12-11T11:08:03.854582Z",
     "iopub.status.busy": "2024-12-11T11:08:03.853819Z",
     "iopub.status.idle": "2024-12-11T11:08:03.857266Z",
     "shell.execute_reply": "2024-12-11T11:08:03.857664Z",
     "shell.execute_reply.started": "2024-12-09T16:49:02.386694Z"
    },
    "papermill": {
     "duration": 0.076039,
     "end_time": "2024-12-11T11:08:03.857801",
     "exception": false,
     "start_time": "2024-12-11T11:08:03.781762",
     "status": "completed"
    },
    "tags": []
   },
   "outputs": [
    {
     "name": "stdout",
     "output_type": "stream",
     "text": [
      "MAPE: 12.49\n"
     ]
    }
   ],
   "source": [
    "# сравниваем предсказанные значения (y_pred) с реальными (y_test), \n",
    "# метрика Mean Absolute Percentage Error (MAPE) показывает среднюю абсолютную \n",
    "# процентную ошибку предсказанных значений от фактических:\n",
    "\n",
    "def mean_absolute_percentage_error(y_tr, y_pr):\n",
    "    \"\"\"Получение средней абсолютной ошибки\"\"\"\n",
    "    y_tr, y_pr = np.array(y_tr), np.array(y_pr)\n",
    "    return np.mean(np.abs((y_tr - y_pr) / y_tr)) * 100\n",
    "\n",
    "print('MAPE:', round(mean_absolute_percentage_error(y_test, y_pred), 2))"
   ]
  },
  {
   "cell_type": "markdown",
   "id": "b4883cbe",
   "metadata": {
    "papermill": {
     "duration": 0.061956,
     "end_time": "2024-12-11T11:08:03.982480",
     "exception": false,
     "start_time": "2024-12-11T11:08:03.920524",
     "status": "completed"
    },
    "tags": []
   },
   "source": [
    "оценим вклад важнейших признаков"
   ]
  },
  {
   "cell_type": "code",
   "execution_count": 50,
   "id": "5f55766b",
   "metadata": {
    "execution": {
     "iopub.execute_input": "2024-12-11T11:08:04.117981Z",
     "iopub.status.busy": "2024-12-11T11:08:04.117269Z",
     "iopub.status.idle": "2024-12-11T11:08:04.512124Z",
     "shell.execute_reply": "2024-12-11T11:08:04.511642Z",
     "shell.execute_reply.started": "2024-12-09T16:49:02.394289Z"
    },
    "papermill": {
     "duration": 0.466079,
     "end_time": "2024-12-11T11:08:04.512245",
     "exception": false,
     "start_time": "2024-12-11T11:08:04.046166",
     "status": "completed"
    },
    "tags": []
   },
   "outputs": [
    {
     "data": {
      "image/png": "[encoded data removed]",
      "text/plain": [
       "<Figure size 720x720 with 1 Axes>"
      ]
     },
     "metadata": {
      "needs_background": "light"
     },
     "output_type": "display_data"
    }
   ],
   "source": [
    "# в RandomForestRegressor есть возможность вывести самые важные признаки\n",
    "plt.rcParams['figure.figsize'] = (10,10)\n",
    "feat_importances = pd.Series(model.feature_importances_, index=X.columns)\n",
    "feat_importances.nlargest(15).plot(kind='barh', color='green');"
   ]
  },
  {
   "cell_type": "markdown",
   "id": "9cd9d69b",
   "metadata": {
    "papermill": {
     "duration": 0.063428,
     "end_time": "2024-12-11T11:08:04.639690",
     "exception": false,
     "start_time": "2024-12-11T11:08:04.576262",
     "status": "completed"
    },
    "tags": []
   },
   "source": [
    "Из графика видно, что важнейшие признаки, оказывающие влияние на результат, во многом связаны с отзывами и их анализом. Кроме того, в решающие признаки попали: \n",
    "   - средняя оценка (average_score);\n",
    "   - lat, long;\n",
    "   - количество дней, проведенных в отеле (stayed_days);\n",
    "   - путешествие в отпуск (Leisure_trip)"
   ]
  },
  {
   "cell_type": "markdown",
   "id": "a49ddc68",
   "metadata": {
    "papermill": {
     "duration": 0.065199,
     "end_time": "2024-12-11T11:08:04.768708",
     "exception": false,
     "start_time": "2024-12-11T11:08:04.703509",
     "status": "completed"
    },
    "tags": []
   },
   "source": [
    "# Предсказания целевой переменной"
   ]
  },
  {
   "cell_type": "code",
   "execution_count": 51,
   "id": "a8dc8239",
   "metadata": {
    "execution": {
     "iopub.execute_input": "2024-12-11T11:08:04.912071Z",
     "iopub.status.busy": "2024-12-11T11:08:04.911569Z",
     "iopub.status.idle": "2024-12-11T11:08:07.384431Z",
     "shell.execute_reply": "2024-12-11T11:08:07.383892Z",
     "shell.execute_reply.started": "2024-12-09T16:49:02.806122Z"
    },
    "papermill": {
     "duration": 2.552934,
     "end_time": "2024-12-11T11:08:07.384557",
     "exception": false,
     "start_time": "2024-12-11T11:08:04.831623",
     "status": "completed"
    },
    "tags": []
   },
   "outputs": [
    {
     "name": "stderr",
     "output_type": "stream",
     "text": [
      "[Parallel(n_jobs=4)]: Using backend ThreadingBackend with 4 concurrent workers.\n",
      "[Parallel(n_jobs=4)]: Done  42 tasks      | elapsed:    0.9s\n",
      "[Parallel(n_jobs=4)]: Done 100 out of 100 | elapsed:    2.2s finished\n"
     ]
    },
    {
     "data": {
      "text/html": [
       "<div>\n",
       "<style scoped>\n",
       "    .dataframe tbody tr th:only-of-type {\n",
       "        vertical-align: middle;\n",
       "    }\n",
       "\n",
       "    .dataframe tbody tr th {\n",
       "        vertical-align: top;\n",
       "    }\n",
       "\n",
       "    .dataframe thead th {\n",
       "        text-align: right;\n",
       "    }\n",
       "</style>\n",
       "<table border=\"1\" class=\"dataframe\">\n",
       "  <thead>\n",
       "    <tr style=\"text-align: right;\">\n",
       "      <th></th>\n",
       "      <th>reviewer_score</th>\n",
       "      <th>id</th>\n",
       "    </tr>\n",
       "  </thead>\n",
       "  <tbody>\n",
       "    <tr>\n",
       "      <th>0</th>\n",
       "      <td>8.723</td>\n",
       "      <td>488440</td>\n",
       "    </tr>\n",
       "    <tr>\n",
       "      <th>1</th>\n",
       "      <td>7.122</td>\n",
       "      <td>274649</td>\n",
       "    </tr>\n",
       "    <tr>\n",
       "      <th>2</th>\n",
       "      <td>8.465</td>\n",
       "      <td>374688</td>\n",
       "    </tr>\n",
       "    <tr>\n",
       "      <th>3</th>\n",
       "      <td>9.806</td>\n",
       "      <td>404352</td>\n",
       "    </tr>\n",
       "    <tr>\n",
       "      <th>4</th>\n",
       "      <td>9.364</td>\n",
       "      <td>451596</td>\n",
       "    </tr>\n",
       "    <tr>\n",
       "      <th>5</th>\n",
       "      <td>9.142</td>\n",
       "      <td>302161</td>\n",
       "    </tr>\n",
       "    <tr>\n",
       "      <th>6</th>\n",
       "      <td>8.263</td>\n",
       "      <td>317079</td>\n",
       "    </tr>\n",
       "    <tr>\n",
       "      <th>7</th>\n",
       "      <td>7.767</td>\n",
       "      <td>13963</td>\n",
       "    </tr>\n",
       "    <tr>\n",
       "      <th>8</th>\n",
       "      <td>8.272</td>\n",
       "      <td>159785</td>\n",
       "    </tr>\n",
       "    <tr>\n",
       "      <th>9</th>\n",
       "      <td>7.730</td>\n",
       "      <td>195089</td>\n",
       "    </tr>\n",
       "  </tbody>\n",
       "</table>\n",
       "</div>"
      ],
      "text/plain": [
       "   reviewer_score      id\n",
       "0           8.723  488440\n",
       "1           7.122  274649\n",
       "2           8.465  374688\n",
       "3           9.806  404352\n",
       "4           9.364  451596\n",
       "5           9.142  302161\n",
       "6           8.263  317079\n",
       "7           7.767   13963\n",
       "8           8.272  159785\n",
       "9           7.730  195089"
      ]
     },
     "execution_count": 51,
     "metadata": {},
     "output_type": "execute_result"
    }
   ],
   "source": [
    "test_data = test_data.drop(['reviewer_score'], axis=1)\n",
    "predict_submission = model.predict(test_data)\n",
    "sample_submission['reviewer_score'] = predict_submission\n",
    "#\n",
    "# сохраняем результаты\n",
    "sample_submission.to_csv('submission.csv', index=False)\n",
    "sample_submission.head(10)"
   ]
  }
 ],
 "metadata": {
  "kaggle": {
   "accelerator": "gpu",
   "dataSources": [
    {
     "databundleVersionId": 3207826,
     "sourceId": 34288,
     "sourceType": "competition"
    }
   ],
   "dockerImageVersionId": 30157,
   "isGpuEnabled": true,
   "isInternetEnabled": false,
   "language": "python",
   "sourceType": "notebook"
  },
  "kernelspec": {
   "display_name": "Python 3",
   "language": "python",
   "name": "python3"
  },
  "language_info": {
   "codemirror_mode": {
    "name": "ipython",
    "version": 3
   },
   "file_extension": ".py",
   "mimetype": "text/x-python",
   "name": "python",
   "nbconvert_exporter": "python",
   "pygments_lexer": "ipython3",
   "version": "3.7.12"
  },
  "papermill": {
   "default_parameters": {},
   "duration": 1110.969068,
   "end_time": "2024-12-11T11:08:09.063824",
   "environment_variables": {},
   "exception": null,
   "input_path": "__notebook__.ipynb",
   "output_path": "__notebook__.ipynb",
   "parameters": {},
   "start_time": "2024-12-11T10:49:38.094756",
   "version": "2.3.3"
  }
 },
 "nbformat": 4,
 "nbformat_minor": 5
}
